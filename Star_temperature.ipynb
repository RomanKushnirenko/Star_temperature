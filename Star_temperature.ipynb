{
 "cells": [
  {
   "cell_type": "markdown",
   "id": "1b617b34",
   "metadata": {
    "ExecuteTime": {
     "end_time": "2022-05-05T04:58:05.692448Z",
     "start_time": "2022-05-05T04:58:05.688565Z"
    }
   },
   "source": [
    "# Прогнозирование температуры звезды"
   ]
  },
  {
   "cell_type": "markdown",
   "id": "3c2370f7",
   "metadata": {},
   "source": [
    "## Описание проекта"
   ]
  },
  {
   "cell_type": "markdown",
   "id": "43b5c98b",
   "metadata": {},
   "source": [
    "<b><u>Цель:</u></b> с помощью нейросети определять температуру на поверхности обнаруженных звёзд"
   ]
  },
  {
   "cell_type": "markdown",
   "id": "d8d39f21",
   "metadata": {},
   "source": [
    "<b><u>Задача:</u></b> необходимо разработать нейронную сеть, которая поможет предсказывать абсолютную температуру на поверхности звезды."
   ]
  },
  {
   "cell_type": "markdown",
   "id": "48085573",
   "metadata": {},
   "source": [
    "<b><u>План действий:</u></b> \n",
    "1. Загрузка исходных данных из файла\n",
    "2. Исследовательский анализ\n",
    "3. Подготовка данных к построению модели\n",
    "4. Построение простой модели нейронной сети — baseline\n",
    "5. Улучшение сети\n",
    "6. Выводы по проекту"
   ]
  },
  {
   "cell_type": "markdown",
   "id": "0e145b04",
   "metadata": {},
   "source": [
    "## Загрузка данных"
   ]
  },
  {
   "cell_type": "code",
   "execution_count": 114,
   "id": "219a00a1",
   "metadata": {},
   "outputs": [],
   "source": [
    "#!pip install phik\n",
    "#!pip install scikit-learn -U"
   ]
  },
  {
   "cell_type": "code",
   "execution_count": 115,
   "id": "8f1f4f48",
   "metadata": {},
   "outputs": [],
   "source": [
    "#pip freeze"
   ]
  },
  {
   "cell_type": "code",
   "execution_count": 116,
   "id": "704ceb5c",
   "metadata": {},
   "outputs": [],
   "source": [
    "import os\n",
    "import pandas as pd\n",
    "import numpy as np\n",
    "import matplotlib.pyplot as plt\n",
    "import seaborn as sns\n",
    "from sklearn.model_selection import train_test_split\n",
    "from sklearn.preprocessing import StandardScaler, MinMaxScaler, OneHotEncoder, OrdinalEncoder\n",
    "from sklearn.metrics import root_mean_squared_error\n",
    "import phik\n",
    "from sklearn.pipeline import Pipeline\n",
    "from sklearn.compose import ColumnTransformer\n",
    "\n",
    "import torch\n",
    "import torch.nn as nn\n",
    "import torch.optim as optim\n",
    "from torch.utils.data import DataLoader, TensorDataset\n",
    "RANDOM_STATE = 42"
   ]
  },
  {
   "cell_type": "code",
   "execution_count": 117,
   "id": "1d84ee4d",
   "metadata": {},
   "outputs": [],
   "source": [
    "project_path_01 = \"C:\\\\Users\\\\kushn\\\\Documents\\\\Python_trainings\\\\Yandex_DS\\\\PyTorch\\\\\"\n",
    "project_path_02 = \"/datasets/\""
   ]
  },
  {
   "cell_type": "code",
   "execution_count": 118,
   "id": "97711ac8",
   "metadata": {},
   "outputs": [],
   "source": [
    "if os.path.exists(project_path_01):\n",
    "    raw_data = pd.read_csv(project_path_01 + '6_class.csv')\n",
    "elif os.path.exists(project_path_02):\n",
    "    raw_data = pd.read_csv(project_path_02 + '6_class.csv')\n",
    "else:\n",
    "    print('Smth wrong')"
   ]
  },
  {
   "cell_type": "code",
   "execution_count": 119,
   "id": "753498c5",
   "metadata": {},
   "outputs": [
    {
     "name": "stdout",
     "output_type": "stream",
     "text": [
      "<class 'pandas.core.frame.DataFrame'>\n",
      "RangeIndex: 240 entries, 0 to 239\n",
      "Data columns (total 7 columns):\n",
      " #   Column                  Non-Null Count  Dtype  \n",
      "---  ------                  --------------  -----  \n",
      " 0   Unnamed: 0              240 non-null    int64  \n",
      " 1   Temperature (K)         240 non-null    int64  \n",
      " 2   Luminosity(L/Lo)        240 non-null    float64\n",
      " 3   Radius(R/Ro)            240 non-null    float64\n",
      " 4   Absolute magnitude(Mv)  240 non-null    float64\n",
      " 5   Star type               240 non-null    int64  \n",
      " 6   Star color              240 non-null    object \n",
      "dtypes: float64(3), int64(3), object(1)\n",
      "memory usage: 13.2+ KB\n"
     ]
    }
   ],
   "source": [
    "raw_data.info()"
   ]
  },
  {
   "cell_type": "code",
   "execution_count": 120,
   "id": "7b5e27fc",
   "metadata": {},
   "outputs": [
    {
     "data": {
      "text/html": [
       "<div>\n",
       "<style scoped>\n",
       "    .dataframe tbody tr th:only-of-type {\n",
       "        vertical-align: middle;\n",
       "    }\n",
       "\n",
       "    .dataframe tbody tr th {\n",
       "        vertical-align: top;\n",
       "    }\n",
       "\n",
       "    .dataframe thead th {\n",
       "        text-align: right;\n",
       "    }\n",
       "</style>\n",
       "<table border=\"1\" class=\"dataframe\">\n",
       "  <thead>\n",
       "    <tr style=\"text-align: right;\">\n",
       "      <th></th>\n",
       "      <th>Unnamed: 0</th>\n",
       "      <th>Temperature (K)</th>\n",
       "      <th>Luminosity(L/Lo)</th>\n",
       "      <th>Radius(R/Ro)</th>\n",
       "      <th>Absolute magnitude(Mv)</th>\n",
       "      <th>Star type</th>\n",
       "      <th>Star color</th>\n",
       "    </tr>\n",
       "  </thead>\n",
       "  <tbody>\n",
       "    <tr>\n",
       "      <th>0</th>\n",
       "      <td>0</td>\n",
       "      <td>3068</td>\n",
       "      <td>0.002400</td>\n",
       "      <td>0.1700</td>\n",
       "      <td>16.12</td>\n",
       "      <td>0</td>\n",
       "      <td>Red</td>\n",
       "    </tr>\n",
       "    <tr>\n",
       "      <th>1</th>\n",
       "      <td>1</td>\n",
       "      <td>3042</td>\n",
       "      <td>0.000500</td>\n",
       "      <td>0.1542</td>\n",
       "      <td>16.60</td>\n",
       "      <td>0</td>\n",
       "      <td>Red</td>\n",
       "    </tr>\n",
       "    <tr>\n",
       "      <th>2</th>\n",
       "      <td>2</td>\n",
       "      <td>2600</td>\n",
       "      <td>0.000300</td>\n",
       "      <td>0.1020</td>\n",
       "      <td>18.70</td>\n",
       "      <td>0</td>\n",
       "      <td>Red</td>\n",
       "    </tr>\n",
       "    <tr>\n",
       "      <th>3</th>\n",
       "      <td>3</td>\n",
       "      <td>2800</td>\n",
       "      <td>0.000200</td>\n",
       "      <td>0.1600</td>\n",
       "      <td>16.65</td>\n",
       "      <td>0</td>\n",
       "      <td>Red</td>\n",
       "    </tr>\n",
       "    <tr>\n",
       "      <th>4</th>\n",
       "      <td>4</td>\n",
       "      <td>1939</td>\n",
       "      <td>0.000138</td>\n",
       "      <td>0.1030</td>\n",
       "      <td>20.06</td>\n",
       "      <td>0</td>\n",
       "      <td>Red</td>\n",
       "    </tr>\n",
       "  </tbody>\n",
       "</table>\n",
       "</div>"
      ],
      "text/plain": [
       "   Unnamed: 0  Temperature (K)  Luminosity(L/Lo)  Radius(R/Ro)  \\\n",
       "0           0             3068          0.002400        0.1700   \n",
       "1           1             3042          0.000500        0.1542   \n",
       "2           2             2600          0.000300        0.1020   \n",
       "3           3             2800          0.000200        0.1600   \n",
       "4           4             1939          0.000138        0.1030   \n",
       "\n",
       "   Absolute magnitude(Mv)  Star type Star color  \n",
       "0                   16.12          0        Red  \n",
       "1                   16.60          0        Red  \n",
       "2                   18.70          0        Red  \n",
       "3                   16.65          0        Red  \n",
       "4                   20.06          0        Red  "
      ]
     },
     "execution_count": 120,
     "metadata": {},
     "output_type": "execute_result"
    }
   ],
   "source": [
    "raw_data.head()"
   ]
  },
  {
   "cell_type": "markdown",
   "id": "a581aa95",
   "metadata": {},
   "source": [
    "### Предобработка"
   ]
  },
  {
   "cell_type": "markdown",
   "id": "e1fb53f8",
   "metadata": {},
   "source": [
    "проверим полные дубли"
   ]
  },
  {
   "cell_type": "code",
   "execution_count": 121,
   "id": "5134de37",
   "metadata": {},
   "outputs": [
    {
     "data": {
      "text/plain": [
       "0"
      ]
     },
     "execution_count": 121,
     "metadata": {},
     "output_type": "execute_result"
    }
   ],
   "source": [
    "raw_data.duplicated().sum()"
   ]
  },
  {
   "cell_type": "markdown",
   "id": "5b217dbf",
   "metadata": {},
   "source": [
    "удалим столбец 'Unnamed: 0'"
   ]
  },
  {
   "cell_type": "code",
   "execution_count": 122,
   "id": "9e73cf43",
   "metadata": {},
   "outputs": [],
   "source": [
    "raw_data.drop(columns=\"Unnamed: 0\", inplace=True)"
   ]
  },
  {
   "cell_type": "markdown",
   "id": "c5ef692c",
   "metadata": {},
   "source": [
    "переименуем столбцы"
   ]
  },
  {
   "cell_type": "code",
   "execution_count": 123,
   "id": "71eb5714",
   "metadata": {},
   "outputs": [
    {
     "data": {
      "text/plain": [
       "Index(['Temperature (K)', 'Luminosity(L/Lo)', 'Radius(R/Ro)',\n",
       "       'Absolute magnitude(Mv)', 'Star type', 'Star color'],\n",
       "      dtype='object')"
      ]
     },
     "execution_count": 123,
     "metadata": {},
     "output_type": "execute_result"
    }
   ],
   "source": [
    "raw_data.columns"
   ]
  },
  {
   "cell_type": "code",
   "execution_count": 124,
   "id": "74338cea",
   "metadata": {},
   "outputs": [],
   "source": [
    "raw_data = raw_data.rename(columns={'Temperature (K)':'temperature',\n",
    "                                    'Luminosity(L/Lo)':'luminosity',\n",
    "                                    'Radius(R/Ro)':'radius',\n",
    "                                    'Absolute magnitude(Mv)':'absolute_magnitude',\n",
    "                                    'Star type':'star_type',\n",
    "                                    'Star color':'star_color'})"
   ]
  },
  {
   "cell_type": "code",
   "execution_count": 125,
   "id": "30cf663b",
   "metadata": {
    "scrolled": true
   },
   "outputs": [
    {
     "data": {
      "text/plain": [
       "Index(['temperature', 'luminosity', 'radius', 'absolute_magnitude',\n",
       "       'star_type', 'star_color'],\n",
       "      dtype='object')"
      ]
     },
     "execution_count": 125,
     "metadata": {},
     "output_type": "execute_result"
    }
   ],
   "source": [
    "raw_data.columns"
   ]
  },
  {
   "cell_type": "code",
   "execution_count": 126,
   "id": "5e456151",
   "metadata": {},
   "outputs": [],
   "source": [
    "df = raw_data"
   ]
  },
  {
   "cell_type": "markdown",
   "id": "8c457940",
   "metadata": {},
   "source": [
    "### Выводы по первичным данным\n",
    "- таблица 7х240\n",
    "- удалили столбец \"Unnamed: 0\", таблица 6х240\n",
    "- переименовали столбцы в снейк_кейс\n",
    "- полных дублей нет\n",
    "- нулевых данных нет"
   ]
  },
  {
   "cell_type": "markdown",
   "id": "4973a008",
   "metadata": {},
   "source": [
    "## EDA"
   ]
  },
  {
   "cell_type": "code",
   "execution_count": 127,
   "id": "7a4e1fc9",
   "metadata": {},
   "outputs": [],
   "source": [
    "def graph (column, df=df):\n",
    "    fig, axes = plt.subplots(nrows=2, ncols=1, figsize=(10, 8))\n",
    "    sns.histplot(df[column], ax=axes[0])\n",
    "    sns.boxplot(x=df[column], ax=axes[1])\n",
    "    axes[0].set_title('Гистограмма показателя ' + column)\n",
    "    axes[1].set_title('Боксплот показателя ' + column)\n",
    "    plt.tight_layout()\n",
    "    plt.show()"
   ]
  },
  {
   "cell_type": "markdown",
   "id": "7352e1ce",
   "metadata": {},
   "source": [
    "### температура"
   ]
  },
  {
   "cell_type": "code",
   "execution_count": 128,
   "id": "3b94b883",
   "metadata": {},
   "outputs": [
    {
     "data": {
      "text/plain": [
       "count      240.000000\n",
       "mean     10497.462500\n",
       "std       9552.425037\n",
       "min       1939.000000\n",
       "25%       3344.250000\n",
       "50%       5776.000000\n",
       "75%      15055.500000\n",
       "max      40000.000000\n",
       "Name: temperature, dtype: float64"
      ]
     },
     "execution_count": 128,
     "metadata": {},
     "output_type": "execute_result"
    }
   ],
   "source": [
    "df.temperature.describe()"
   ]
  },
  {
   "cell_type": "code",
   "execution_count": 129,
   "id": "9cef0344",
   "metadata": {},
   "outputs": [
    {
     "data": {
      "image/png": "[encoded data removed]",
      "text/plain": [
       "<Figure size 720x576 with 2 Axes>"
      ]
     },
     "metadata": {
      "needs_background": "light"
     },
     "output_type": "display_data"
    }
   ],
   "source": [
    "graph('temperature')"
   ]
  },
  {
   "cell_type": "markdown",
   "id": "7c45557f",
   "metadata": {},
   "source": [
    "### luminosity"
   ]
  },
  {
   "cell_type": "code",
   "execution_count": 130,
   "id": "89873fff",
   "metadata": {},
   "outputs": [
    {
     "data": {
      "text/plain": [
       "count       240.000000\n",
       "mean     107188.361635\n",
       "std      179432.244940\n",
       "min           0.000080\n",
       "25%           0.000865\n",
       "50%           0.070500\n",
       "75%      198050.000000\n",
       "max      849420.000000\n",
       "Name: luminosity, dtype: float64"
      ]
     },
     "execution_count": 130,
     "metadata": {},
     "output_type": "execute_result"
    }
   ],
   "source": [
    "df.luminosity.describe()"
   ]
  },
  {
   "cell_type": "code",
   "execution_count": 131,
   "id": "ea2cdf6b",
   "metadata": {},
   "outputs": [
    {
     "data": {
      "image/png": "[encoded data removed]",
      "text/plain": [
       "<Figure size 720x576 with 2 Axes>"
      ]
     },
     "metadata": {
      "needs_background": "light"
     },
     "output_type": "display_data"
    }
   ],
   "source": [
    "graph('luminosity')"
   ]
  },
  {
   "cell_type": "markdown",
   "id": "9a5101a3",
   "metadata": {},
   "source": [
    "### radius"
   ]
  },
  {
   "cell_type": "code",
   "execution_count": 132,
   "id": "f2f56f57",
   "metadata": {},
   "outputs": [
    {
     "data": {
      "text/plain": [
       "count     240.000000\n",
       "mean      237.157781\n",
       "std       517.155763\n",
       "min         0.008400\n",
       "25%         0.102750\n",
       "50%         0.762500\n",
       "75%        42.750000\n",
       "max      1948.500000\n",
       "Name: radius, dtype: float64"
      ]
     },
     "execution_count": 132,
     "metadata": {},
     "output_type": "execute_result"
    }
   ],
   "source": [
    "df.radius.describe()"
   ]
  },
  {
   "cell_type": "code",
   "execution_count": 133,
   "id": "536f1a5e",
   "metadata": {},
   "outputs": [
    {
     "data": {
      "image/png": "[encoded data removed]",
      "text/plain": [
       "<Figure size 720x576 with 2 Axes>"
      ]
     },
     "metadata": {
      "needs_background": "light"
     },
     "output_type": "display_data"
    }
   ],
   "source": [
    "graph('radius')"
   ]
  },
  {
   "cell_type": "markdown",
   "id": "b55555e2",
   "metadata": {},
   "source": [
    "### absolute_magnitude"
   ]
  },
  {
   "cell_type": "code",
   "execution_count": 134,
   "id": "c24aba58",
   "metadata": {},
   "outputs": [
    {
     "data": {
      "text/plain": [
       "count    240.000000\n",
       "mean       4.382396\n",
       "std       10.532512\n",
       "min      -11.920000\n",
       "25%       -6.232500\n",
       "50%        8.313000\n",
       "75%       13.697500\n",
       "max       20.060000\n",
       "Name: absolute_magnitude, dtype: float64"
      ]
     },
     "execution_count": 134,
     "metadata": {},
     "output_type": "execute_result"
    }
   ],
   "source": [
    "df.absolute_magnitude.describe()"
   ]
  },
  {
   "cell_type": "code",
   "execution_count": 135,
   "id": "c4405d46",
   "metadata": {},
   "outputs": [
    {
     "data": {
      "image/png": "[encoded data removed]",
      "text/plain": [
       "<Figure size 720x576 with 2 Axes>"
      ]
     },
     "metadata": {
      "needs_background": "light"
     },
     "output_type": "display_data"
    }
   ],
   "source": [
    "graph('absolute_magnitude')"
   ]
  },
  {
   "cell_type": "markdown",
   "id": "ff260cad",
   "metadata": {},
   "source": [
    "### star_type"
   ]
  },
  {
   "cell_type": "code",
   "execution_count": 136,
   "id": "29bdd460",
   "metadata": {},
   "outputs": [
    {
     "data": {
      "text/plain": [
       "0    40\n",
       "1    40\n",
       "2    40\n",
       "3    40\n",
       "4    40\n",
       "5    40\n",
       "Name: star_type, dtype: int64"
      ]
     },
     "execution_count": 136,
     "metadata": {},
     "output_type": "execute_result"
    }
   ],
   "source": [
    "df.star_type.value_counts()"
   ]
  },
  {
   "cell_type": "code",
   "execution_count": 137,
   "id": "b6ee3fa7",
   "metadata": {},
   "outputs": [
    {
     "data": {
      "image/png": "[encoded data removed]",
      "text/plain": [
       "<Figure size 432x288 with 1 Axes>"
      ]
     },
     "metadata": {
      "needs_background": "light"
     },
     "output_type": "display_data"
    }
   ],
   "source": [
    "sns.countplot(x='star_type', data=df)\n",
    "plt.xticks(rotation=45)\n",
    "plt.title('Распределение по типу звезды')\n",
    "plt.show()"
   ]
  },
  {
   "cell_type": "markdown",
   "id": "35ff338b",
   "metadata": {},
   "source": [
    "### star_color"
   ]
  },
  {
   "cell_type": "code",
   "execution_count": 138,
   "id": "86fcf8be",
   "metadata": {},
   "outputs": [
    {
     "data": {
      "text/plain": [
       "Red                   112\n",
       "Blue                   55\n",
       "Blue-white             26\n",
       "Blue White             10\n",
       "yellow-white            8\n",
       "White                   7\n",
       "Blue white              3\n",
       "white                   3\n",
       "Yellowish White         3\n",
       "yellowish               2\n",
       "Orange                  2\n",
       "Whitish                 2\n",
       "White-Yellow            1\n",
       "Yellowish               1\n",
       "Orange-Red              1\n",
       "Blue white              1\n",
       "Blue                    1\n",
       "Blue-White              1\n",
       "Pale yellow orange      1\n",
       "Name: star_color, dtype: int64"
      ]
     },
     "execution_count": 138,
     "metadata": {},
     "output_type": "execute_result"
    }
   ],
   "source": [
    "df.star_color.value_counts()"
   ]
  },
  {
   "cell_type": "markdown",
   "id": "6f50cd0d",
   "metadata": {},
   "source": [
    "исправим цвета"
   ]
  },
  {
   "cell_type": "code",
   "execution_count": 139,
   "id": "2de26a26",
   "metadata": {},
   "outputs": [],
   "source": [
    "df.star_color = df.star_color.replace(\n",
    "    {'Blue White':'Blue-white', \n",
    "     'Blue white':'Blue-white', \n",
    "     'Blue-White':'Blue-white', \n",
    "     'Blue white ':'Blue-white',\n",
    "     'yellow-white':'Yellow-white', \n",
    "     'Yellowish White':'Yellow-white', \n",
    "     'White-Yellow':'Yellow-white',\n",
    "     'white':'White', 'Whitish':'White',\n",
    "     'yellowish':'Yellow',  \n",
    "     'Yellowish':'Yellow',\n",
    "     'Pale yellow orange':'Orange', \n",
    "     'Orange-Red':'Orange',\n",
    "     'Blue ':'Blue'\n",
    "    }\n",
    ") "
   ]
  },
  {
   "cell_type": "code",
   "execution_count": 140,
   "id": "9ef116a7",
   "metadata": {},
   "outputs": [
    {
     "data": {
      "text/plain": [
       "Red             112\n",
       "Blue             56\n",
       "Blue-white       41\n",
       "Yellow-white     12\n",
       "White            12\n",
       "Orange            4\n",
       "Yellow            3\n",
       "Name: star_color, dtype: int64"
      ]
     },
     "execution_count": 140,
     "metadata": {},
     "output_type": "execute_result"
    }
   ],
   "source": [
    "df.star_color.value_counts()"
   ]
  },
  {
   "cell_type": "code",
   "execution_count": 141,
   "id": "a0313856",
   "metadata": {},
   "outputs": [
    {
     "data": {
      "image/png": "[encoded data removed]",
      "text/plain": [
       "<Figure size 432x288 with 1 Axes>"
      ]
     },
     "metadata": {
      "needs_background": "light"
     },
     "output_type": "display_data"
    }
   ],
   "source": [
    "sns.countplot(x='star_color', data=df)\n",
    "plt.xticks(rotation=45)\n",
    "plt.title('Распределение по цветам')\n",
    "plt.show()"
   ]
  },
  {
   "cell_type": "markdown",
   "id": "edbb2d01",
   "metadata": {},
   "source": [
    "### Корреляционный анализ"
   ]
  },
  {
   "cell_type": "code",
   "execution_count": 142,
   "id": "8cc432d7",
   "metadata": {},
   "outputs": [],
   "source": [
    "corr_matrix_phik = df.phik_matrix(\n",
    "    interval_cols=df.select_dtypes(include='float').columns.to_list())"
   ]
  },
  {
   "cell_type": "code",
   "execution_count": 143,
   "id": "940dd27d",
   "metadata": {
    "scrolled": false
   },
   "outputs": [
    {
     "data": {
      "image/png": "[encoded data removed]",
      "text/plain": [
       "<Figure size 1440x1080 with 2 Axes>"
      ]
     },
     "metadata": {
      "needs_background": "light"
     },
     "output_type": "display_data"
    }
   ],
   "source": [
    "plt.figure(figsize=(20,15))\n",
    "plt.title(\"Матрица корреляции признаков\")\n",
    "sns.heatmap(corr_matrix_phik, annot=True, cmap='coolwarm')\n",
    "plt.show()"
   ]
  },
  {
   "cell_type": "markdown",
   "id": "b062118f",
   "metadata": {},
   "source": [
    "### Выводы по EDA\n",
    "- пропущенных значений не обнаружено\n",
    "- явных выбросов не обнаружено\n",
    "- исправлены значения столбца `star_color`\n",
    "- корреляционный анализ методом phik показал очень высокую корреляцию признаков"
   ]
  },
  {
   "cell_type": "markdown",
   "id": "63b4c1f8",
   "metadata": {},
   "source": [
    "## Подготовка данных"
   ]
  },
  {
   "cell_type": "code",
   "execution_count": 144,
   "id": "d365c174",
   "metadata": {},
   "outputs": [],
   "source": [
    "#X = df.drop('temperature', axis=1)\n",
    "#y = df['temperature']\n",
    "y_stratify = df['star_color']\n",
    "X_train, X_test, y_train_stratify, y_test_stratify = train_test_split(df.drop('star_color', axis=1), y_stratify,\n",
    "     test_size=0.1, stratify=y_stratify, random_state=RANDOM_STATE)"
   ]
  },
  {
   "cell_type": "code",
   "execution_count": 145,
   "id": "d3cf7e6b",
   "metadata": {},
   "outputs": [],
   "source": [
    "X_train = X_train.assign(star_color=y_train_stratify)\n",
    "X_test = X_test.assign(star_color=y_test_stratify)"
   ]
  },
  {
   "cell_type": "code",
   "execution_count": 146,
   "id": "bb7643ce",
   "metadata": {},
   "outputs": [],
   "source": [
    "y_train = X_train['temperature']\n",
    "X_train = X_train.drop('temperature', axis=1)\n",
    "y_test = X_test['temperature']\n",
    "X_test = X_test.drop('temperature', axis=1)"
   ]
  },
  {
   "cell_type": "code",
   "execution_count": 147,
   "id": "3a29da0b",
   "metadata": {},
   "outputs": [],
   "source": [
    "ohe_columns = ['star_color', 'star_type']\n",
    "num_columns = ['luminosity', 'radius', 'absolute_magnitude']"
   ]
  },
  {
   "cell_type": "code",
   "execution_count": 148,
   "id": "79db5d35",
   "metadata": {},
   "outputs": [],
   "source": [
    "ohe_pipe = Pipeline(\n",
    "    [\n",
    "       ('ohe', OneHotEncoder(drop='first', handle_unknown='ignore', sparse_output=False))\n",
    "       ]\n",
    ")"
   ]
  },
  {
   "cell_type": "code",
   "execution_count": 149,
   "id": "302e6dbf",
   "metadata": {},
   "outputs": [],
   "source": [
    "data_preprocessor = ColumnTransformer(\n",
    "    [\n",
    "        ('ohe', ohe_pipe, ohe_columns),\n",
    "        ('num', StandardScaler(), num_columns)\n",
    "    ], \n",
    "    remainder='passthrough'\n",
    ")"
   ]
  },
  {
   "cell_type": "code",
   "execution_count": 150,
   "id": "d1e2f2cc",
   "metadata": {},
   "outputs": [],
   "source": [
    "X_train_scaled = pd.DataFrame(data_preprocessor.fit_transform(X_train),\n",
    "    columns=data_preprocessor.get_feature_names_out())\n",
    "X_test_scaled = pd.DataFrame(data_preprocessor.transform(X_test),\n",
    "    columns=data_preprocessor.get_feature_names_out())"
   ]
  },
  {
   "cell_type": "code",
   "execution_count": 151,
   "id": "065fdd6f",
   "metadata": {},
   "outputs": [
    {
     "data": {
      "text/html": [
       "<div>\n",
       "<style scoped>\n",
       "    .dataframe tbody tr th:only-of-type {\n",
       "        vertical-align: middle;\n",
       "    }\n",
       "\n",
       "    .dataframe tbody tr th {\n",
       "        vertical-align: top;\n",
       "    }\n",
       "\n",
       "    .dataframe thead th {\n",
       "        text-align: right;\n",
       "    }\n",
       "</style>\n",
       "<table border=\"1\" class=\"dataframe\">\n",
       "  <thead>\n",
       "    <tr style=\"text-align: right;\">\n",
       "      <th></th>\n",
       "      <th>ohe__star_color_Blue-white</th>\n",
       "      <th>ohe__star_color_Orange</th>\n",
       "      <th>ohe__star_color_Red</th>\n",
       "      <th>ohe__star_color_White</th>\n",
       "      <th>ohe__star_color_Yellow</th>\n",
       "      <th>ohe__star_color_Yellow-white</th>\n",
       "      <th>ohe__star_type_1</th>\n",
       "      <th>ohe__star_type_2</th>\n",
       "      <th>ohe__star_type_3</th>\n",
       "      <th>ohe__star_type_4</th>\n",
       "      <th>ohe__star_type_5</th>\n",
       "      <th>num__luminosity</th>\n",
       "      <th>num__radius</th>\n",
       "      <th>num__absolute_magnitude</th>\n",
       "    </tr>\n",
       "  </thead>\n",
       "  <tbody>\n",
       "    <tr>\n",
       "      <th>0</th>\n",
       "      <td>0.0</td>\n",
       "      <td>0.0</td>\n",
       "      <td>1.0</td>\n",
       "      <td>0.0</td>\n",
       "      <td>0.0</td>\n",
       "      <td>0.0</td>\n",
       "      <td>1.0</td>\n",
       "      <td>0.0</td>\n",
       "      <td>0.0</td>\n",
       "      <td>0.0</td>\n",
       "      <td>0.0</td>\n",
       "      <td>-0.583431</td>\n",
       "      <td>-0.435462</td>\n",
       "      <td>0.990957</td>\n",
       "    </tr>\n",
       "    <tr>\n",
       "      <th>1</th>\n",
       "      <td>0.0</td>\n",
       "      <td>0.0</td>\n",
       "      <td>0.0</td>\n",
       "      <td>0.0</td>\n",
       "      <td>0.0</td>\n",
       "      <td>0.0</td>\n",
       "      <td>0.0</td>\n",
       "      <td>0.0</td>\n",
       "      <td>0.0</td>\n",
       "      <td>0.0</td>\n",
       "      <td>1.0</td>\n",
       "      <td>3.033406</td>\n",
       "      <td>3.450314</td>\n",
       "      <td>-1.470019</td>\n",
       "    </tr>\n",
       "    <tr>\n",
       "      <th>2</th>\n",
       "      <td>0.0</td>\n",
       "      <td>0.0</td>\n",
       "      <td>0.0</td>\n",
       "      <td>1.0</td>\n",
       "      <td>0.0</td>\n",
       "      <td>0.0</td>\n",
       "      <td>0.0</td>\n",
       "      <td>1.0</td>\n",
       "      <td>0.0</td>\n",
       "      <td>0.0</td>\n",
       "      <td>0.0</td>\n",
       "      <td>-0.583431</td>\n",
       "      <td>-0.436899</td>\n",
       "      <td>0.897673</td>\n",
       "    </tr>\n",
       "    <tr>\n",
       "      <th>3</th>\n",
       "      <td>0.0</td>\n",
       "      <td>0.0</td>\n",
       "      <td>0.0</td>\n",
       "      <td>0.0</td>\n",
       "      <td>0.0</td>\n",
       "      <td>0.0</td>\n",
       "      <td>0.0</td>\n",
       "      <td>1.0</td>\n",
       "      <td>0.0</td>\n",
       "      <td>0.0</td>\n",
       "      <td>0.0</td>\n",
       "      <td>-0.583431</td>\n",
       "      <td>-0.436896</td>\n",
       "      <td>0.718798</td>\n",
       "    </tr>\n",
       "    <tr>\n",
       "      <th>4</th>\n",
       "      <td>0.0</td>\n",
       "      <td>0.0</td>\n",
       "      <td>1.0</td>\n",
       "      <td>0.0</td>\n",
       "      <td>0.0</td>\n",
       "      <td>0.0</td>\n",
       "      <td>0.0</td>\n",
       "      <td>0.0</td>\n",
       "      <td>0.0</td>\n",
       "      <td>0.0</td>\n",
       "      <td>1.0</td>\n",
       "      <td>0.933741</td>\n",
       "      <td>1.923152</td>\n",
       "      <td>-1.312301</td>\n",
       "    </tr>\n",
       "  </tbody>\n",
       "</table>\n",
       "</div>"
      ],
      "text/plain": [
       "   ohe__star_color_Blue-white  ohe__star_color_Orange  ohe__star_color_Red  \\\n",
       "0                         0.0                     0.0                  1.0   \n",
       "1                         0.0                     0.0                  0.0   \n",
       "2                         0.0                     0.0                  0.0   \n",
       "3                         0.0                     0.0                  0.0   \n",
       "4                         0.0                     0.0                  1.0   \n",
       "\n",
       "   ohe__star_color_White  ohe__star_color_Yellow  \\\n",
       "0                    0.0                     0.0   \n",
       "1                    0.0                     0.0   \n",
       "2                    1.0                     0.0   \n",
       "3                    0.0                     0.0   \n",
       "4                    0.0                     0.0   \n",
       "\n",
       "   ohe__star_color_Yellow-white  ohe__star_type_1  ohe__star_type_2  \\\n",
       "0                           0.0               1.0               0.0   \n",
       "1                           0.0               0.0               0.0   \n",
       "2                           0.0               0.0               1.0   \n",
       "3                           0.0               0.0               1.0   \n",
       "4                           0.0               0.0               0.0   \n",
       "\n",
       "   ohe__star_type_3  ohe__star_type_4  ohe__star_type_5  num__luminosity  \\\n",
       "0               0.0               0.0               0.0        -0.583431   \n",
       "1               0.0               0.0               1.0         3.033406   \n",
       "2               0.0               0.0               0.0        -0.583431   \n",
       "3               0.0               0.0               0.0        -0.583431   \n",
       "4               0.0               0.0               1.0         0.933741   \n",
       "\n",
       "   num__radius  num__absolute_magnitude  \n",
       "0    -0.435462                 0.990957  \n",
       "1     3.450314                -1.470019  \n",
       "2    -0.436899                 0.897673  \n",
       "3    -0.436896                 0.718798  \n",
       "4     1.923152                -1.312301  "
      ]
     },
     "execution_count": 151,
     "metadata": {},
     "output_type": "execute_result"
    }
   ],
   "source": [
    "X_train_scaled.head()"
   ]
  },
  {
   "cell_type": "markdown",
   "id": "df250f0c",
   "metadata": {},
   "source": [
    "## Baseline"
   ]
  },
  {
   "cell_type": "code",
   "execution_count": 152,
   "id": "5c1656e3",
   "metadata": {},
   "outputs": [],
   "source": [
    "input_size = X_train_scaled.shape[1]  \n",
    "hidden_size = 1024\n",
    "num_classes = 1 \n",
    "num_epochs = 100\n",
    "batch_size = 16\n",
    "learning_rate = 0.01"
   ]
  },
  {
   "cell_type": "code",
   "execution_count": 153,
   "id": "0d8c8dd4",
   "metadata": {},
   "outputs": [],
   "source": [
    "X_train_tensor = torch.FloatTensor(X_train_scaled.values)\n",
    "y_train_tensor = torch.tensor(y_train.values, dtype=torch.float32)\n",
    "X_test_tensor = torch.FloatTensor(X_test_scaled.values)\n",
    "y_test_tensor = torch.tensor(y_test.values, dtype=torch.float32)\n",
    "\n",
    "train_dataset = TensorDataset(X_train_tensor, y_train_tensor)\n",
    "test_dataset = TensorDataset(X_test_tensor, y_test_tensor)\n",
    "\n",
    "train_loader = DataLoader(dataset=train_dataset, batch_size=batch_size, shuffle=True)\n",
    "test_loader = DataLoader(dataset=test_dataset, batch_size=batch_size, shuffle=False)"
   ]
  },
  {
   "cell_type": "code",
   "execution_count": 154,
   "id": "1c428054",
   "metadata": {},
   "outputs": [],
   "source": [
    "class NeuralNet(nn.Module):\n",
    "    def __init__(self, input_size, hidden_size, num_classes, dropout_rate):\n",
    "        super(NeuralNet, self).__init__()\n",
    "        self.fc1 = nn.Linear(input_size, hidden_size) \n",
    "        self.relu = nn.ReLU()\n",
    "        self.fc2 = nn.Linear(hidden_size, num_classes)  \n",
    "    \n",
    "    def forward(self, x):\n",
    "        out = self.fc1(x)\n",
    "        out = self.relu(out)\n",
    "        out = self.fc2(out)\n",
    "        return out"
   ]
  },
  {
   "cell_type": "code",
   "execution_count": 155,
   "id": "30a9642a",
   "metadata": {},
   "outputs": [],
   "source": [
    "class RMSELoss(nn.Module):\n",
    "    def __init__(self):\n",
    "        super(RMSELoss, self).__init__()\n",
    "        self.mse = nn.MSELoss() \n",
    "\n",
    "    def forward(self, y_pred, y_true):\n",
    "        \n",
    "        mse_loss = self.mse(y_pred, y_true)\n",
    "        rmse_loss = torch.sqrt(mse_loss)\n",
    "        return rmse_loss"
   ]
  },
  {
   "cell_type": "code",
   "execution_count": 157,
   "id": "839ab951",
   "metadata": {},
   "outputs": [],
   "source": [
    "def train_model(model, train_loader, test_loader, criterion, optimizer, num_epochs=num_epochs):\n",
    "\n",
    "    train_losses = []\n",
    "    test_losses = []\n",
    "\n",
    "    for epoch in range(num_epochs):\n",
    "        \n",
    "        model.train()\n",
    "        epoch_train_loss = 0.0\n",
    "        for inputs, labels in train_loader:\n",
    "            outputs = model(inputs)\n",
    "            loss = criterion(outputs, labels.unsqueeze(1))\n",
    "            \n",
    "            optimizer.zero_grad()\n",
    "            loss.backward()\n",
    "            optimizer.step()\n",
    "            \n",
    "            epoch_train_loss += loss.item() * inputs.size(0)\n",
    "        \n",
    "        \n",
    "        epoch_train_loss /= len(train_loader.dataset)\n",
    "        train_losses.append(epoch_train_loss)\n",
    "\n",
    "        \n",
    "        model.eval()\n",
    "        epoch_test_loss = 0.0\n",
    "        y_pred = []\n",
    "        with torch.no_grad():\n",
    "            for inputs, labels in test_loader:\n",
    "                outputs = model(inputs)\n",
    "                loss = criterion(outputs, labels.unsqueeze(1))\n",
    "                epoch_test_loss += loss.item() * inputs.size(0)\n",
    "                y_pred.extend(outputs.cpu().numpy())\n",
    "        \n",
    "        \n",
    "        epoch_test_loss /= len(test_loader.dataset)\n",
    "        test_losses.append(epoch_test_loss)\n",
    "\n",
    "        \n",
    "        if (epoch+1) % 100 == 0:\n",
    "            print(f'Epoch [{epoch+1}/{num_epochs}],\\\n",
    "            Train Loss: {epoch_train_loss:.0f},\\\n",
    "            Test Loss: {epoch_test_loss:.0f}')\n",
    "\n",
    "    return train_losses, test_losses, y_pred"
   ]
  },
  {
   "cell_type": "code",
   "execution_count": 158,
   "id": "0d7ab7a1",
   "metadata": {},
   "outputs": [
    {
     "name": "stdout",
     "output_type": "stream",
     "text": [
      "Epoch [100/100],            Train Loss: 4312,            Test Loss: 4817\n"
     ]
    }
   ],
   "source": [
    "model = NeuralNet(input_size, hidden_size, num_classes, dropout_rate=0.0)\n",
    "criterion = RMSELoss()\n",
    "optimizer = optim.Adam(model.parameters(), lr=learning_rate)\n",
    "\n",
    "\n",
    "train_losses, test_losses, y_pred = train_model(\n",
    "    model=model,\n",
    "    train_loader=train_loader,\n",
    "    test_loader=test_loader,\n",
    "    criterion=criterion,\n",
    "    optimizer=optimizer,\n",
    "    num_epochs=num_epochs\n",
    ")"
   ]
  },
  {
   "cell_type": "code",
   "execution_count": 159,
   "id": "d12e7cd1",
   "metadata": {},
   "outputs": [
    {
     "name": "stdout",
     "output_type": "stream",
     "text": [
      "RMSE: 5260.16\n"
     ]
    }
   ],
   "source": [
    "model.eval()\n",
    "with torch.no_grad():\n",
    "    y_pred_tensor = model(X_test_tensor)\n",
    "    y_pred = y_pred_tensor.numpy()\n",
    "\n",
    "\n",
    "rmse = root_mean_squared_error(y_test, y_pred)\n",
    "print(f'RMSE: {rmse:.2f}')"
   ]
  },
  {
   "cell_type": "markdown",
   "id": "153e7c7b",
   "metadata": {},
   "source": [
    "### Визуализация прогноза"
   ]
  },
  {
   "cell_type": "code",
   "execution_count": 160,
   "id": "64516e12",
   "metadata": {},
   "outputs": [
    {
     "data": {
      "image/png": "[encoded data removed]",
      "text/plain": [
       "<Figure size 720x432 with 1 Axes>"
      ]
     },
     "metadata": {
      "needs_background": "light"
     },
     "output_type": "display_data"
    }
   ],
   "source": [
    "plt.figure(figsize=(10, 6))\n",
    "plt.bar(range(len(y_test)), y_test, color='blue', label='Факт')\n",
    "plt.bar(range(len(y_pred)), pd.Series([x[0] for x in y_pred]), width = 0.5, color='red', label='Прогноз')\n",
    "plt.legend()\n",
    "plt.show()"
   ]
  },
  {
   "cell_type": "markdown",
   "id": "2f0eb952",
   "metadata": {},
   "source": [
    "## Улучшение нейронной сети"
   ]
  },
  {
   "cell_type": "markdown",
   "id": "67889e20",
   "metadata": {},
   "source": [
    "Создадим функцию в которой будем переберать:\n",
    "- количество батчей\n",
    "- долю дропаута\n",
    "- количество эпох\n"
   ]
  },
  {
   "cell_type": "code",
   "execution_count": 161,
   "id": "64a96379",
   "metadata": {},
   "outputs": [],
   "source": [
    "class NeuralNetImproved(nn.Module):\n",
    "    def __init__(self, input_size, hidden_size, num_classes, dropout_rate):\n",
    "        super(NeuralNetImproved, self).__init__()\n",
    "        self.fc1 = nn.Linear(input_size, hidden_size) \n",
    "        self.relu = nn.ReLU()\n",
    "        self.dropout = nn.Dropout(dropout_rate)\n",
    "        self.fc2 = nn.Linear(hidden_size, num_classes)  \n",
    "    \n",
    "    def forward(self, x):\n",
    "        out = self.fc1(x)\n",
    "        out = self.relu(out)\n",
    "        out = self.dropout(out)\n",
    "        out = self.fc2(out)\n",
    "        return out"
   ]
  },
  {
   "cell_type": "code",
   "execution_count": 162,
   "id": "e5d4dea1",
   "metadata": {},
   "outputs": [],
   "source": [
    "def hyperparameter_tuning(train_dataset,\n",
    "                          test_dataset,\n",
    "                          input_size,\n",
    "                          hidden_sizes,\n",
    "                          num_classes,\n",
    "                          dropout_rates,\n",
    "                          batch_sizes,\n",
    "                          num_epochs_list,\n",
    "                          learning_rates):\n",
    "\n",
    "    results = []\n",
    "    for dropout_rate in dropout_rates:\n",
    "        for hidden_size in hidden_sizes:\n",
    "            for learning_rate in learning_rates:\n",
    "                for batch_size in batch_sizes:\n",
    "                    for num_epochs in num_epochs_list:\n",
    "\n",
    "            \n",
    "                        train_loader = DataLoader(dataset=train_dataset, batch_size=batch_size, shuffle=True)\n",
    "                        test_loader = DataLoader(dataset=test_dataset, batch_size=batch_size, shuffle=False)\n",
    "\n",
    "                        \n",
    "                        model = NeuralNetImproved(input_size, hidden_size, num_classes, dropout_rate=dropout_rate)\n",
    "\n",
    "                        criterion = RMSELoss()\n",
    "                        optimizer = optim.Adam(model.parameters(), lr=learning_rate)\n",
    "\n",
    "                        train_losses, test_losses, y_pred = train_model(\n",
    "                            model=model,\n",
    "                            train_loader=train_loader,\n",
    "                            test_loader=test_loader,\n",
    "                            criterion=criterion,\n",
    "                            optimizer=optimizer,\n",
    "                            num_epochs=num_epochs\n",
    "                        )\n",
    "\n",
    "                        y_test = test_dataset.tensors[1].numpy()\n",
    "                        rmse = root_mean_squared_error(y_test, y_pred)\n",
    "\n",
    "                        results.append({\n",
    "                            'dropout_rate': dropout_rate,\n",
    "                            'hidden_size': hidden_size,\n",
    "                            'learning_rate': learning_rate,\n",
    "                            'batch_size': batch_size,\n",
    "                            'num_epochs': num_epochs,\n",
    "                            'train_loss': train_losses[-1],  \n",
    "                            'test_loss': test_losses[-1],    \n",
    "                            'rmse': rmse\n",
    "                        })\n",
    "\n",
    "                        print(f\"Dropout: {dropout_rate},\\\n",
    "                               Hidden Size: {hidden_size},\\\n",
    "                                  Learning Rate: {learning_rate},\\\n",
    "                                    Batch Size: {batch_size},\\\n",
    "                                          Epochs: {num_epochs},\\\n",
    "                                              RMSE: {rmse:.2f}\")\n",
    "\n",
    "    return results"
   ]
  },
  {
   "cell_type": "code",
   "execution_count": 165,
   "id": "72d93389",
   "metadata": {},
   "outputs": [
    {
     "name": "stdout",
     "output_type": "stream",
     "text": [
      "Epoch [100/100],            Train Loss: 3820,            Test Loss: 3681\n",
      "Dropout: 0.2,                               Hidden Size: 512,                                  Learning Rate: 0.015,                                    Batch Size: 7,                                          Epochs: 100,                                              RMSE: 4654.00\n",
      "Epoch [100/200],            Train Loss: 3603,            Test Loss: 3476\n",
      "Epoch [200/200],            Train Loss: 3504,            Test Loss: 3248\n",
      "Dropout: 0.2,                               Hidden Size: 512,                                  Learning Rate: 0.015,                                    Batch Size: 7,                                          Epochs: 200,                                              RMSE: 4274.62\n",
      "Epoch [100/100],            Train Loss: 4358,            Test Loss: 4910\n",
      "Dropout: 0.2,                               Hidden Size: 512,                                  Learning Rate: 0.015,                                    Batch Size: 16,                                          Epochs: 100,                                              RMSE: 5343.79\n",
      "Epoch [100/200],            Train Loss: 4303,            Test Loss: 4811\n",
      "Epoch [200/200],            Train Loss: 3949,            Test Loss: 4321\n",
      "Dropout: 0.2,                               Hidden Size: 512,                                  Learning Rate: 0.015,                                    Batch Size: 16,                                          Epochs: 200,                                              RMSE: 4409.77\n",
      "Epoch [100/100],            Train Loss: 3715,            Test Loss: 3298\n",
      "Dropout: 0.2,                               Hidden Size: 512,                                  Learning Rate: 0.016,                                    Batch Size: 7,                                          Epochs: 100,                                              RMSE: 4302.85\n",
      "Epoch [100/200],            Train Loss: 3801,            Test Loss: 3419\n",
      "Epoch [200/200],            Train Loss: 3444,            Test Loss: 3371\n",
      "Dropout: 0.2,                               Hidden Size: 512,                                  Learning Rate: 0.016,                                    Batch Size: 7,                                          Epochs: 200,                                              RMSE: 4379.93\n",
      "Epoch [100/100],            Train Loss: 4263,            Test Loss: 4753\n",
      "Dropout: 0.2,                               Hidden Size: 512,                                  Learning Rate: 0.016,                                    Batch Size: 16,                                          Epochs: 100,                                              RMSE: 5137.05\n",
      "Epoch [100/200],            Train Loss: 4068,            Test Loss: 4909\n",
      "Epoch [200/200],            Train Loss: 3766,            Test Loss: 4185\n",
      "Dropout: 0.2,                               Hidden Size: 512,                                  Learning Rate: 0.016,                                    Batch Size: 16,                                          Epochs: 200,                                              RMSE: 4251.12\n",
      "Epoch [100/100],            Train Loss: 3769,            Test Loss: 3387\n",
      "Dropout: 0.2,                               Hidden Size: 625,                                  Learning Rate: 0.015,                                    Batch Size: 7,                                          Epochs: 100,                                              RMSE: 4357.33\n",
      "Epoch [100/200],            Train Loss: 3838,            Test Loss: 3592\n",
      "Epoch [200/200],            Train Loss: 3548,            Test Loss: 3265\n",
      "Dropout: 0.2,                               Hidden Size: 625,                                  Learning Rate: 0.015,                                    Batch Size: 7,                                          Epochs: 200,                                              RMSE: 4360.20\n",
      "Epoch [100/100],            Train Loss: 4212,            Test Loss: 4620\n",
      "Dropout: 0.2,                               Hidden Size: 625,                                  Learning Rate: 0.015,                                    Batch Size: 16,                                          Epochs: 100,                                              RMSE: 5034.51\n",
      "Epoch [100/200],            Train Loss: 4232,            Test Loss: 4679\n",
      "Epoch [200/200],            Train Loss: 3790,            Test Loss: 4304\n",
      "Dropout: 0.2,                               Hidden Size: 625,                                  Learning Rate: 0.015,                                    Batch Size: 16,                                          Epochs: 200,                                              RMSE: 4348.48\n",
      "Epoch [100/100],            Train Loss: 3716,            Test Loss: 3509\n",
      "Dropout: 0.2,                               Hidden Size: 625,                                  Learning Rate: 0.016,                                    Batch Size: 7,                                          Epochs: 100,                                              RMSE: 4478.84\n",
      "Epoch [100/200],            Train Loss: 3685,            Test Loss: 3236\n",
      "Epoch [200/200],            Train Loss: 3561,            Test Loss: 3242\n",
      "Dropout: 0.2,                               Hidden Size: 625,                                  Learning Rate: 0.016,                                    Batch Size: 7,                                          Epochs: 200,                                              RMSE: 4245.67\n",
      "Epoch [100/100],            Train Loss: 4172,            Test Loss: 4669\n",
      "Dropout: 0.2,                               Hidden Size: 625,                                  Learning Rate: 0.016,                                    Batch Size: 16,                                          Epochs: 100,                                              RMSE: 5020.90\n",
      "Epoch [100/200],            Train Loss: 4224,            Test Loss: 4717\n",
      "Epoch [200/200],            Train Loss: 4022,            Test Loss: 4186\n",
      "Dropout: 0.2,                               Hidden Size: 625,                                  Learning Rate: 0.016,                                    Batch Size: 16,                                          Epochs: 200,                                              RMSE: 4240.20\n",
      "Epoch [100/100],            Train Loss: 3797,            Test Loss: 3725\n",
      "Dropout: 0.3,                               Hidden Size: 512,                                  Learning Rate: 0.015,                                    Batch Size: 7,                                          Epochs: 100,                                              RMSE: 4746.53\n",
      "Epoch [100/200],            Train Loss: 3898,            Test Loss: 3637\n",
      "Epoch [200/200],            Train Loss: 3512,            Test Loss: 3189\n",
      "Dropout: 0.3,                               Hidden Size: 512,                                  Learning Rate: 0.015,                                    Batch Size: 7,                                          Epochs: 200,                                              RMSE: 4284.94\n",
      "Epoch [100/100],            Train Loss: 4448,            Test Loss: 4889\n",
      "Dropout: 0.3,                               Hidden Size: 512,                                  Learning Rate: 0.015,                                    Batch Size: 16,                                          Epochs: 100,                                              RMSE: 5364.09\n",
      "Epoch [100/200],            Train Loss: 4298,            Test Loss: 4937\n",
      "Epoch [200/200],            Train Loss: 3827,            Test Loss: 4235\n",
      "Dropout: 0.3,                               Hidden Size: 512,                                  Learning Rate: 0.015,                                    Batch Size: 16,                                          Epochs: 200,                                              RMSE: 4332.86\n",
      "Epoch [100/100],            Train Loss: 3615,            Test Loss: 3518\n",
      "Dropout: 0.3,                               Hidden Size: 512,                                  Learning Rate: 0.016,                                    Batch Size: 7,                                          Epochs: 100,                                              RMSE: 4587.40\n",
      "Epoch [100/200],            Train Loss: 3859,            Test Loss: 3400\n",
      "Epoch [200/200],            Train Loss: 3580,            Test Loss: 3270\n",
      "Dropout: 0.3,                               Hidden Size: 512,                                  Learning Rate: 0.016,                                    Batch Size: 7,                                          Epochs: 200,                                              RMSE: 4315.90\n",
      "Epoch [100/100],            Train Loss: 4184,            Test Loss: 4893\n",
      "Dropout: 0.3,                               Hidden Size: 512,                                  Learning Rate: 0.016,                                    Batch Size: 16,                                          Epochs: 100,                                              RMSE: 5375.50\n",
      "Epoch [100/200],            Train Loss: 4402,            Test Loss: 4707\n",
      "Epoch [200/200],            Train Loss: 3925,            Test Loss: 4234\n",
      "Dropout: 0.3,                               Hidden Size: 512,                                  Learning Rate: 0.016,                                    Batch Size: 16,                                          Epochs: 200,                                              RMSE: 4317.36\n",
      "Epoch [100/100],            Train Loss: 3838,            Test Loss: 3500\n",
      "Dropout: 0.3,                               Hidden Size: 625,                                  Learning Rate: 0.015,                                    Batch Size: 7,                                          Epochs: 100,                                              RMSE: 4539.39\n",
      "Epoch [100/200],            Train Loss: 3852,            Test Loss: 3473\n",
      "Epoch [200/200],            Train Loss: 3568,            Test Loss: 3274\n",
      "Dropout: 0.3,                               Hidden Size: 625,                                  Learning Rate: 0.015,                                    Batch Size: 7,                                          Epochs: 200,                                              RMSE: 4271.75\n",
      "Epoch [100/100],            Train Loss: 4318,            Test Loss: 4811\n",
      "Dropout: 0.3,                               Hidden Size: 625,                                  Learning Rate: 0.015,                                    Batch Size: 16,                                          Epochs: 100,                                              RMSE: 5231.56\n",
      "Epoch [100/200],            Train Loss: 4319,            Test Loss: 4694\n",
      "Epoch [200/200],            Train Loss: 3874,            Test Loss: 4232\n",
      "Dropout: 0.3,                               Hidden Size: 625,                                  Learning Rate: 0.015,                                    Batch Size: 16,                                          Epochs: 200,                                              RMSE: 4303.63\n",
      "Epoch [100/100],            Train Loss: 3688,            Test Loss: 3460\n",
      "Dropout: 0.3,                               Hidden Size: 625,                                  Learning Rate: 0.016,                                    Batch Size: 7,                                          Epochs: 100,                                              RMSE: 4476.80\n",
      "Epoch [100/200],            Train Loss: 3649,            Test Loss: 3280\n",
      "Epoch [200/200],            Train Loss: 3595,            Test Loss: 3228\n",
      "Dropout: 0.3,                               Hidden Size: 625,                                  Learning Rate: 0.016,                                    Batch Size: 7,                                          Epochs: 200,                                              RMSE: 4229.35\n",
      "Epoch [100/100],            Train Loss: 4249,            Test Loss: 4682\n",
      "Dropout: 0.3,                               Hidden Size: 625,                                  Learning Rate: 0.016,                                    Batch Size: 16,                                          Epochs: 100,                                              RMSE: 5054.29\n",
      "Epoch [100/200],            Train Loss: 4126,            Test Loss: 4725\n",
      "Epoch [200/200],            Train Loss: 3826,            Test Loss: 4273\n",
      "Dropout: 0.3,                               Hidden Size: 625,                                  Learning Rate: 0.016,                                    Batch Size: 16,                                          Epochs: 200,                                              RMSE: 4332.98\n"
     ]
    }
   ],
   "source": [
    "input_size = X_train_scaled.shape[1]  \n",
    "hidden_sizes = [512, 625]\n",
    "learning_rates = [0.015, 0.016]\n",
    "dropout_rates = [0.2, 0.3]\n",
    "batch_sizes = [7, 16]\n",
    "num_epochs_list = [100, 200]\n",
    "\n",
    "results = hyperparameter_tuning(\n",
    "    train_dataset=train_dataset,\n",
    "    test_dataset=test_dataset,\n",
    "    input_size=input_size,\n",
    "    hidden_sizes=hidden_sizes,\n",
    "    num_classes=num_classes,\n",
    "    dropout_rates=dropout_rates,\n",
    "    batch_sizes=batch_sizes,\n",
    "    num_epochs_list=num_epochs_list,\n",
    "    learning_rates=learning_rates\n",
    ")"
   ]
  },
  {
   "cell_type": "code",
   "execution_count": 166,
   "id": "ce67c5d4",
   "metadata": {},
   "outputs": [
    {
     "data": {
      "text/html": [
       "<div>\n",
       "<style scoped>\n",
       "    .dataframe tbody tr th:only-of-type {\n",
       "        vertical-align: middle;\n",
       "    }\n",
       "\n",
       "    .dataframe tbody tr th {\n",
       "        vertical-align: top;\n",
       "    }\n",
       "\n",
       "    .dataframe thead th {\n",
       "        text-align: right;\n",
       "    }\n",
       "</style>\n",
       "<table border=\"1\" class=\"dataframe\">\n",
       "  <thead>\n",
       "    <tr style=\"text-align: right;\">\n",
       "      <th></th>\n",
       "      <th>dropout_rate</th>\n",
       "      <th>hidden_size</th>\n",
       "      <th>learning_rate</th>\n",
       "      <th>batch_size</th>\n",
       "      <th>num_epochs</th>\n",
       "      <th>train_loss</th>\n",
       "      <th>test_loss</th>\n",
       "      <th>rmse</th>\n",
       "    </tr>\n",
       "  </thead>\n",
       "  <tbody>\n",
       "    <tr>\n",
       "      <th>29</th>\n",
       "      <td>0.3</td>\n",
       "      <td>625</td>\n",
       "      <td>0.016</td>\n",
       "      <td>7</td>\n",
       "      <td>200</td>\n",
       "      <td>3595.375143</td>\n",
       "      <td>3227.794449</td>\n",
       "      <td>4229.348633</td>\n",
       "    </tr>\n",
       "    <tr>\n",
       "      <th>15</th>\n",
       "      <td>0.2</td>\n",
       "      <td>625</td>\n",
       "      <td>0.016</td>\n",
       "      <td>16</td>\n",
       "      <td>200</td>\n",
       "      <td>4021.557237</td>\n",
       "      <td>4185.995443</td>\n",
       "      <td>4240.204590</td>\n",
       "    </tr>\n",
       "    <tr>\n",
       "      <th>13</th>\n",
       "      <td>0.2</td>\n",
       "      <td>625</td>\n",
       "      <td>0.016</td>\n",
       "      <td>7</td>\n",
       "      <td>200</td>\n",
       "      <td>3560.813012</td>\n",
       "      <td>3241.997579</td>\n",
       "      <td>4245.666504</td>\n",
       "    </tr>\n",
       "    <tr>\n",
       "      <th>7</th>\n",
       "      <td>0.2</td>\n",
       "      <td>512</td>\n",
       "      <td>0.016</td>\n",
       "      <td>16</td>\n",
       "      <td>200</td>\n",
       "      <td>3766.080874</td>\n",
       "      <td>4185.175537</td>\n",
       "      <td>4251.124023</td>\n",
       "    </tr>\n",
       "    <tr>\n",
       "      <th>25</th>\n",
       "      <td>0.3</td>\n",
       "      <td>625</td>\n",
       "      <td>0.015</td>\n",
       "      <td>7</td>\n",
       "      <td>200</td>\n",
       "      <td>3567.564479</td>\n",
       "      <td>3274.340729</td>\n",
       "      <td>4271.748535</td>\n",
       "    </tr>\n",
       "    <tr>\n",
       "      <th>1</th>\n",
       "      <td>0.2</td>\n",
       "      <td>512</td>\n",
       "      <td>0.015</td>\n",
       "      <td>7</td>\n",
       "      <td>200</td>\n",
       "      <td>3504.283751</td>\n",
       "      <td>3248.018954</td>\n",
       "      <td>4274.624512</td>\n",
       "    </tr>\n",
       "    <tr>\n",
       "      <th>17</th>\n",
       "      <td>0.3</td>\n",
       "      <td>512</td>\n",
       "      <td>0.015</td>\n",
       "      <td>7</td>\n",
       "      <td>200</td>\n",
       "      <td>3512.163927</td>\n",
       "      <td>3189.259542</td>\n",
       "      <td>4284.943848</td>\n",
       "    </tr>\n",
       "    <tr>\n",
       "      <th>4</th>\n",
       "      <td>0.2</td>\n",
       "      <td>512</td>\n",
       "      <td>0.016</td>\n",
       "      <td>7</td>\n",
       "      <td>100</td>\n",
       "      <td>3715.296963</td>\n",
       "      <td>3298.452044</td>\n",
       "      <td>4302.848633</td>\n",
       "    </tr>\n",
       "    <tr>\n",
       "      <th>27</th>\n",
       "      <td>0.3</td>\n",
       "      <td>625</td>\n",
       "      <td>0.015</td>\n",
       "      <td>16</td>\n",
       "      <td>200</td>\n",
       "      <td>3874.339084</td>\n",
       "      <td>4232.069092</td>\n",
       "      <td>4303.634766</td>\n",
       "    </tr>\n",
       "    <tr>\n",
       "      <th>21</th>\n",
       "      <td>0.3</td>\n",
       "      <td>512</td>\n",
       "      <td>0.016</td>\n",
       "      <td>7</td>\n",
       "      <td>200</td>\n",
       "      <td>3579.636200</td>\n",
       "      <td>3269.887332</td>\n",
       "      <td>4315.901855</td>\n",
       "    </tr>\n",
       "    <tr>\n",
       "      <th>23</th>\n",
       "      <td>0.3</td>\n",
       "      <td>512</td>\n",
       "      <td>0.016</td>\n",
       "      <td>16</td>\n",
       "      <td>200</td>\n",
       "      <td>3924.956550</td>\n",
       "      <td>4233.946533</td>\n",
       "      <td>4317.363281</td>\n",
       "    </tr>\n",
       "    <tr>\n",
       "      <th>19</th>\n",
       "      <td>0.3</td>\n",
       "      <td>512</td>\n",
       "      <td>0.015</td>\n",
       "      <td>16</td>\n",
       "      <td>200</td>\n",
       "      <td>3827.366690</td>\n",
       "      <td>4235.291585</td>\n",
       "      <td>4332.859375</td>\n",
       "    </tr>\n",
       "    <tr>\n",
       "      <th>31</th>\n",
       "      <td>0.3</td>\n",
       "      <td>625</td>\n",
       "      <td>0.016</td>\n",
       "      <td>16</td>\n",
       "      <td>200</td>\n",
       "      <td>3826.468289</td>\n",
       "      <td>4272.714355</td>\n",
       "      <td>4332.984863</td>\n",
       "    </tr>\n",
       "    <tr>\n",
       "      <th>11</th>\n",
       "      <td>0.2</td>\n",
       "      <td>625</td>\n",
       "      <td>0.015</td>\n",
       "      <td>16</td>\n",
       "      <td>200</td>\n",
       "      <td>3790.047996</td>\n",
       "      <td>4303.666504</td>\n",
       "      <td>4348.475586</td>\n",
       "    </tr>\n",
       "    <tr>\n",
       "      <th>8</th>\n",
       "      <td>0.2</td>\n",
       "      <td>625</td>\n",
       "      <td>0.015</td>\n",
       "      <td>7</td>\n",
       "      <td>100</td>\n",
       "      <td>3769.151175</td>\n",
       "      <td>3386.656804</td>\n",
       "      <td>4357.328613</td>\n",
       "    </tr>\n",
       "    <tr>\n",
       "      <th>9</th>\n",
       "      <td>0.2</td>\n",
       "      <td>625</td>\n",
       "      <td>0.015</td>\n",
       "      <td>7</td>\n",
       "      <td>200</td>\n",
       "      <td>3548.492966</td>\n",
       "      <td>3265.441523</td>\n",
       "      <td>4360.201172</td>\n",
       "    </tr>\n",
       "    <tr>\n",
       "      <th>5</th>\n",
       "      <td>0.2</td>\n",
       "      <td>512</td>\n",
       "      <td>0.016</td>\n",
       "      <td>7</td>\n",
       "      <td>200</td>\n",
       "      <td>3443.761646</td>\n",
       "      <td>3371.078990</td>\n",
       "      <td>4379.930176</td>\n",
       "    </tr>\n",
       "    <tr>\n",
       "      <th>3</th>\n",
       "      <td>0.2</td>\n",
       "      <td>512</td>\n",
       "      <td>0.015</td>\n",
       "      <td>16</td>\n",
       "      <td>200</td>\n",
       "      <td>3948.744936</td>\n",
       "      <td>4320.509521</td>\n",
       "      <td>4409.774414</td>\n",
       "    </tr>\n",
       "    <tr>\n",
       "      <th>28</th>\n",
       "      <td>0.3</td>\n",
       "      <td>625</td>\n",
       "      <td>0.016</td>\n",
       "      <td>7</td>\n",
       "      <td>100</td>\n",
       "      <td>3687.600521</td>\n",
       "      <td>3459.893578</td>\n",
       "      <td>4476.802246</td>\n",
       "    </tr>\n",
       "    <tr>\n",
       "      <th>12</th>\n",
       "      <td>0.2</td>\n",
       "      <td>625</td>\n",
       "      <td>0.016</td>\n",
       "      <td>7</td>\n",
       "      <td>100</td>\n",
       "      <td>3715.813200</td>\n",
       "      <td>3509.187213</td>\n",
       "      <td>4478.835449</td>\n",
       "    </tr>\n",
       "    <tr>\n",
       "      <th>24</th>\n",
       "      <td>0.3</td>\n",
       "      <td>625</td>\n",
       "      <td>0.015</td>\n",
       "      <td>7</td>\n",
       "      <td>100</td>\n",
       "      <td>3837.567550</td>\n",
       "      <td>3500.258082</td>\n",
       "      <td>4539.389648</td>\n",
       "    </tr>\n",
       "    <tr>\n",
       "      <th>20</th>\n",
       "      <td>0.3</td>\n",
       "      <td>512</td>\n",
       "      <td>0.016</td>\n",
       "      <td>7</td>\n",
       "      <td>100</td>\n",
       "      <td>3615.026724</td>\n",
       "      <td>3518.012541</td>\n",
       "      <td>4587.404297</td>\n",
       "    </tr>\n",
       "    <tr>\n",
       "      <th>0</th>\n",
       "      <td>0.2</td>\n",
       "      <td>512</td>\n",
       "      <td>0.015</td>\n",
       "      <td>7</td>\n",
       "      <td>100</td>\n",
       "      <td>3820.364986</td>\n",
       "      <td>3680.771985</td>\n",
       "      <td>4654.001465</td>\n",
       "    </tr>\n",
       "    <tr>\n",
       "      <th>16</th>\n",
       "      <td>0.3</td>\n",
       "      <td>512</td>\n",
       "      <td>0.015</td>\n",
       "      <td>7</td>\n",
       "      <td>100</td>\n",
       "      <td>3796.874093</td>\n",
       "      <td>3724.586563</td>\n",
       "      <td>4746.526367</td>\n",
       "    </tr>\n",
       "    <tr>\n",
       "      <th>14</th>\n",
       "      <td>0.2</td>\n",
       "      <td>625</td>\n",
       "      <td>0.016</td>\n",
       "      <td>16</td>\n",
       "      <td>100</td>\n",
       "      <td>4172.122287</td>\n",
       "      <td>4668.744792</td>\n",
       "      <td>5020.903809</td>\n",
       "    </tr>\n",
       "    <tr>\n",
       "      <th>10</th>\n",
       "      <td>0.2</td>\n",
       "      <td>625</td>\n",
       "      <td>0.015</td>\n",
       "      <td>16</td>\n",
       "      <td>100</td>\n",
       "      <td>4212.159433</td>\n",
       "      <td>4619.943563</td>\n",
       "      <td>5034.509277</td>\n",
       "    </tr>\n",
       "    <tr>\n",
       "      <th>30</th>\n",
       "      <td>0.3</td>\n",
       "      <td>625</td>\n",
       "      <td>0.016</td>\n",
       "      <td>16</td>\n",
       "      <td>100</td>\n",
       "      <td>4248.950747</td>\n",
       "      <td>4681.887533</td>\n",
       "      <td>5054.290039</td>\n",
       "    </tr>\n",
       "    <tr>\n",
       "      <th>6</th>\n",
       "      <td>0.2</td>\n",
       "      <td>512</td>\n",
       "      <td>0.016</td>\n",
       "      <td>16</td>\n",
       "      <td>100</td>\n",
       "      <td>4263.394938</td>\n",
       "      <td>4752.920085</td>\n",
       "      <td>5137.053711</td>\n",
       "    </tr>\n",
       "    <tr>\n",
       "      <th>26</th>\n",
       "      <td>0.3</td>\n",
       "      <td>625</td>\n",
       "      <td>0.015</td>\n",
       "      <td>16</td>\n",
       "      <td>100</td>\n",
       "      <td>4318.492875</td>\n",
       "      <td>4810.557739</td>\n",
       "      <td>5231.558105</td>\n",
       "    </tr>\n",
       "    <tr>\n",
       "      <th>2</th>\n",
       "      <td>0.2</td>\n",
       "      <td>512</td>\n",
       "      <td>0.015</td>\n",
       "      <td>16</td>\n",
       "      <td>100</td>\n",
       "      <td>4357.862160</td>\n",
       "      <td>4909.800415</td>\n",
       "      <td>5343.790039</td>\n",
       "    </tr>\n",
       "    <tr>\n",
       "      <th>18</th>\n",
       "      <td>0.3</td>\n",
       "      <td>512</td>\n",
       "      <td>0.015</td>\n",
       "      <td>16</td>\n",
       "      <td>100</td>\n",
       "      <td>4447.767054</td>\n",
       "      <td>4888.714640</td>\n",
       "      <td>5364.090332</td>\n",
       "    </tr>\n",
       "    <tr>\n",
       "      <th>22</th>\n",
       "      <td>0.3</td>\n",
       "      <td>512</td>\n",
       "      <td>0.016</td>\n",
       "      <td>16</td>\n",
       "      <td>100</td>\n",
       "      <td>4183.811519</td>\n",
       "      <td>4892.694010</td>\n",
       "      <td>5375.497559</td>\n",
       "    </tr>\n",
       "  </tbody>\n",
       "</table>\n",
       "</div>"
      ],
      "text/plain": [
       "    dropout_rate  hidden_size  learning_rate  batch_size  num_epochs  \\\n",
       "29           0.3          625          0.016           7         200   \n",
       "15           0.2          625          0.016          16         200   \n",
       "13           0.2          625          0.016           7         200   \n",
       "7            0.2          512          0.016          16         200   \n",
       "25           0.3          625          0.015           7         200   \n",
       "1            0.2          512          0.015           7         200   \n",
       "17           0.3          512          0.015           7         200   \n",
       "4            0.2          512          0.016           7         100   \n",
       "27           0.3          625          0.015          16         200   \n",
       "21           0.3          512          0.016           7         200   \n",
       "23           0.3          512          0.016          16         200   \n",
       "19           0.3          512          0.015          16         200   \n",
       "31           0.3          625          0.016          16         200   \n",
       "11           0.2          625          0.015          16         200   \n",
       "8            0.2          625          0.015           7         100   \n",
       "9            0.2          625          0.015           7         200   \n",
       "5            0.2          512          0.016           7         200   \n",
       "3            0.2          512          0.015          16         200   \n",
       "28           0.3          625          0.016           7         100   \n",
       "12           0.2          625          0.016           7         100   \n",
       "24           0.3          625          0.015           7         100   \n",
       "20           0.3          512          0.016           7         100   \n",
       "0            0.2          512          0.015           7         100   \n",
       "16           0.3          512          0.015           7         100   \n",
       "14           0.2          625          0.016          16         100   \n",
       "10           0.2          625          0.015          16         100   \n",
       "30           0.3          625          0.016          16         100   \n",
       "6            0.2          512          0.016          16         100   \n",
       "26           0.3          625          0.015          16         100   \n",
       "2            0.2          512          0.015          16         100   \n",
       "18           0.3          512          0.015          16         100   \n",
       "22           0.3          512          0.016          16         100   \n",
       "\n",
       "     train_loss    test_loss         rmse  \n",
       "29  3595.375143  3227.794449  4229.348633  \n",
       "15  4021.557237  4185.995443  4240.204590  \n",
       "13  3560.813012  3241.997579  4245.666504  \n",
       "7   3766.080874  4185.175537  4251.124023  \n",
       "25  3567.564479  3274.340729  4271.748535  \n",
       "1   3504.283751  3248.018954  4274.624512  \n",
       "17  3512.163927  3189.259542  4284.943848  \n",
       "4   3715.296963  3298.452044  4302.848633  \n",
       "27  3874.339084  4232.069092  4303.634766  \n",
       "21  3579.636200  3269.887332  4315.901855  \n",
       "23  3924.956550  4233.946533  4317.363281  \n",
       "19  3827.366690  4235.291585  4332.859375  \n",
       "31  3826.468289  4272.714355  4332.984863  \n",
       "11  3790.047996  4303.666504  4348.475586  \n",
       "8   3769.151175  3386.656804  4357.328613  \n",
       "9   3548.492966  3265.441523  4360.201172  \n",
       "5   3443.761646  3371.078990  4379.930176  \n",
       "3   3948.744936  4320.509521  4409.774414  \n",
       "28  3687.600521  3459.893578  4476.802246  \n",
       "12  3715.813200  3509.187213  4478.835449  \n",
       "24  3837.567550  3500.258082  4539.389648  \n",
       "20  3615.026724  3518.012541  4587.404297  \n",
       "0   3820.364986  3680.771985  4654.001465  \n",
       "16  3796.874093  3724.586563  4746.526367  \n",
       "14  4172.122287  4668.744792  5020.903809  \n",
       "10  4212.159433  4619.943563  5034.509277  \n",
       "30  4248.950747  4681.887533  5054.290039  \n",
       "6   4263.394938  4752.920085  5137.053711  \n",
       "26  4318.492875  4810.557739  5231.558105  \n",
       "2   4357.862160  4909.800415  5343.790039  \n",
       "18  4447.767054  4888.714640  5364.090332  \n",
       "22  4183.811519  4892.694010  5375.497559  "
      ]
     },
     "execution_count": 166,
     "metadata": {},
     "output_type": "execute_result"
    }
   ],
   "source": [
    "latest_res = pd.DataFrame(results)\n",
    "latest_res.sort_values(by='rmse')"
   ]
  },
  {
   "cell_type": "code",
   "execution_count": 167,
   "id": "0f980e53",
   "metadata": {},
   "outputs": [
    {
     "data": {
      "text/html": [
       "<div>\n",
       "<style scoped>\n",
       "    .dataframe tbody tr th:only-of-type {\n",
       "        vertical-align: middle;\n",
       "    }\n",
       "\n",
       "    .dataframe tbody tr th {\n",
       "        vertical-align: top;\n",
       "    }\n",
       "\n",
       "    .dataframe thead th {\n",
       "        text-align: right;\n",
       "    }\n",
       "</style>\n",
       "<table border=\"1\" class=\"dataframe\">\n",
       "  <thead>\n",
       "    <tr style=\"text-align: right;\">\n",
       "      <th></th>\n",
       "      <th>dropout_rate</th>\n",
       "      <th>hidden_size</th>\n",
       "      <th>learning_rate</th>\n",
       "      <th>batch_size</th>\n",
       "      <th>num_epochs</th>\n",
       "      <th>train_loss</th>\n",
       "      <th>test_loss</th>\n",
       "      <th>rmse</th>\n",
       "    </tr>\n",
       "  </thead>\n",
       "  <tbody>\n",
       "    <tr>\n",
       "      <th>29</th>\n",
       "      <td>0.3</td>\n",
       "      <td>625</td>\n",
       "      <td>0.016</td>\n",
       "      <td>7</td>\n",
       "      <td>200</td>\n",
       "      <td>3595.375143</td>\n",
       "      <td>3227.794449</td>\n",
       "      <td>4229.348633</td>\n",
       "    </tr>\n",
       "    <tr>\n",
       "      <th>15</th>\n",
       "      <td>0.2</td>\n",
       "      <td>625</td>\n",
       "      <td>0.016</td>\n",
       "      <td>16</td>\n",
       "      <td>200</td>\n",
       "      <td>4021.557237</td>\n",
       "      <td>4185.995443</td>\n",
       "      <td>4240.204590</td>\n",
       "    </tr>\n",
       "    <tr>\n",
       "      <th>13</th>\n",
       "      <td>0.2</td>\n",
       "      <td>625</td>\n",
       "      <td>0.016</td>\n",
       "      <td>7</td>\n",
       "      <td>200</td>\n",
       "      <td>3560.813012</td>\n",
       "      <td>3241.997579</td>\n",
       "      <td>4245.666504</td>\n",
       "    </tr>\n",
       "    <tr>\n",
       "      <th>7</th>\n",
       "      <td>0.2</td>\n",
       "      <td>512</td>\n",
       "      <td>0.016</td>\n",
       "      <td>16</td>\n",
       "      <td>200</td>\n",
       "      <td>3766.080874</td>\n",
       "      <td>4185.175537</td>\n",
       "      <td>4251.124023</td>\n",
       "    </tr>\n",
       "    <tr>\n",
       "      <th>25</th>\n",
       "      <td>0.3</td>\n",
       "      <td>625</td>\n",
       "      <td>0.015</td>\n",
       "      <td>7</td>\n",
       "      <td>200</td>\n",
       "      <td>3567.564479</td>\n",
       "      <td>3274.340729</td>\n",
       "      <td>4271.748535</td>\n",
       "    </tr>\n",
       "    <tr>\n",
       "      <th>1</th>\n",
       "      <td>0.2</td>\n",
       "      <td>512</td>\n",
       "      <td>0.015</td>\n",
       "      <td>7</td>\n",
       "      <td>200</td>\n",
       "      <td>3504.283751</td>\n",
       "      <td>3248.018954</td>\n",
       "      <td>4274.624512</td>\n",
       "    </tr>\n",
       "    <tr>\n",
       "      <th>17</th>\n",
       "      <td>0.3</td>\n",
       "      <td>512</td>\n",
       "      <td>0.015</td>\n",
       "      <td>7</td>\n",
       "      <td>200</td>\n",
       "      <td>3512.163927</td>\n",
       "      <td>3189.259542</td>\n",
       "      <td>4284.943848</td>\n",
       "    </tr>\n",
       "    <tr>\n",
       "      <th>4</th>\n",
       "      <td>0.2</td>\n",
       "      <td>512</td>\n",
       "      <td>0.016</td>\n",
       "      <td>7</td>\n",
       "      <td>100</td>\n",
       "      <td>3715.296963</td>\n",
       "      <td>3298.452044</td>\n",
       "      <td>4302.848633</td>\n",
       "    </tr>\n",
       "    <tr>\n",
       "      <th>27</th>\n",
       "      <td>0.3</td>\n",
       "      <td>625</td>\n",
       "      <td>0.015</td>\n",
       "      <td>16</td>\n",
       "      <td>200</td>\n",
       "      <td>3874.339084</td>\n",
       "      <td>4232.069092</td>\n",
       "      <td>4303.634766</td>\n",
       "    </tr>\n",
       "    <tr>\n",
       "      <th>21</th>\n",
       "      <td>0.3</td>\n",
       "      <td>512</td>\n",
       "      <td>0.016</td>\n",
       "      <td>7</td>\n",
       "      <td>200</td>\n",
       "      <td>3579.636200</td>\n",
       "      <td>3269.887332</td>\n",
       "      <td>4315.901855</td>\n",
       "    </tr>\n",
       "    <tr>\n",
       "      <th>23</th>\n",
       "      <td>0.3</td>\n",
       "      <td>512</td>\n",
       "      <td>0.016</td>\n",
       "      <td>16</td>\n",
       "      <td>200</td>\n",
       "      <td>3924.956550</td>\n",
       "      <td>4233.946533</td>\n",
       "      <td>4317.363281</td>\n",
       "    </tr>\n",
       "    <tr>\n",
       "      <th>19</th>\n",
       "      <td>0.3</td>\n",
       "      <td>512</td>\n",
       "      <td>0.015</td>\n",
       "      <td>16</td>\n",
       "      <td>200</td>\n",
       "      <td>3827.366690</td>\n",
       "      <td>4235.291585</td>\n",
       "      <td>4332.859375</td>\n",
       "    </tr>\n",
       "    <tr>\n",
       "      <th>31</th>\n",
       "      <td>0.3</td>\n",
       "      <td>625</td>\n",
       "      <td>0.016</td>\n",
       "      <td>16</td>\n",
       "      <td>200</td>\n",
       "      <td>3826.468289</td>\n",
       "      <td>4272.714355</td>\n",
       "      <td>4332.984863</td>\n",
       "    </tr>\n",
       "    <tr>\n",
       "      <th>11</th>\n",
       "      <td>0.2</td>\n",
       "      <td>625</td>\n",
       "      <td>0.015</td>\n",
       "      <td>16</td>\n",
       "      <td>200</td>\n",
       "      <td>3790.047996</td>\n",
       "      <td>4303.666504</td>\n",
       "      <td>4348.475586</td>\n",
       "    </tr>\n",
       "    <tr>\n",
       "      <th>8</th>\n",
       "      <td>0.2</td>\n",
       "      <td>625</td>\n",
       "      <td>0.015</td>\n",
       "      <td>7</td>\n",
       "      <td>100</td>\n",
       "      <td>3769.151175</td>\n",
       "      <td>3386.656804</td>\n",
       "      <td>4357.328613</td>\n",
       "    </tr>\n",
       "    <tr>\n",
       "      <th>9</th>\n",
       "      <td>0.2</td>\n",
       "      <td>625</td>\n",
       "      <td>0.015</td>\n",
       "      <td>7</td>\n",
       "      <td>200</td>\n",
       "      <td>3548.492966</td>\n",
       "      <td>3265.441523</td>\n",
       "      <td>4360.201172</td>\n",
       "    </tr>\n",
       "    <tr>\n",
       "      <th>5</th>\n",
       "      <td>0.2</td>\n",
       "      <td>512</td>\n",
       "      <td>0.016</td>\n",
       "      <td>7</td>\n",
       "      <td>200</td>\n",
       "      <td>3443.761646</td>\n",
       "      <td>3371.078990</td>\n",
       "      <td>4379.930176</td>\n",
       "    </tr>\n",
       "    <tr>\n",
       "      <th>3</th>\n",
       "      <td>0.2</td>\n",
       "      <td>512</td>\n",
       "      <td>0.015</td>\n",
       "      <td>16</td>\n",
       "      <td>200</td>\n",
       "      <td>3948.744936</td>\n",
       "      <td>4320.509521</td>\n",
       "      <td>4409.774414</td>\n",
       "    </tr>\n",
       "    <tr>\n",
       "      <th>28</th>\n",
       "      <td>0.3</td>\n",
       "      <td>625</td>\n",
       "      <td>0.016</td>\n",
       "      <td>7</td>\n",
       "      <td>100</td>\n",
       "      <td>3687.600521</td>\n",
       "      <td>3459.893578</td>\n",
       "      <td>4476.802246</td>\n",
       "    </tr>\n",
       "    <tr>\n",
       "      <th>12</th>\n",
       "      <td>0.2</td>\n",
       "      <td>625</td>\n",
       "      <td>0.016</td>\n",
       "      <td>7</td>\n",
       "      <td>100</td>\n",
       "      <td>3715.813200</td>\n",
       "      <td>3509.187213</td>\n",
       "      <td>4478.835449</td>\n",
       "    </tr>\n",
       "    <tr>\n",
       "      <th>24</th>\n",
       "      <td>0.3</td>\n",
       "      <td>625</td>\n",
       "      <td>0.015</td>\n",
       "      <td>7</td>\n",
       "      <td>100</td>\n",
       "      <td>3837.567550</td>\n",
       "      <td>3500.258082</td>\n",
       "      <td>4539.389648</td>\n",
       "    </tr>\n",
       "    <tr>\n",
       "      <th>20</th>\n",
       "      <td>0.3</td>\n",
       "      <td>512</td>\n",
       "      <td>0.016</td>\n",
       "      <td>7</td>\n",
       "      <td>100</td>\n",
       "      <td>3615.026724</td>\n",
       "      <td>3518.012541</td>\n",
       "      <td>4587.404297</td>\n",
       "    </tr>\n",
       "    <tr>\n",
       "      <th>0</th>\n",
       "      <td>0.2</td>\n",
       "      <td>512</td>\n",
       "      <td>0.015</td>\n",
       "      <td>7</td>\n",
       "      <td>100</td>\n",
       "      <td>3820.364986</td>\n",
       "      <td>3680.771985</td>\n",
       "      <td>4654.001465</td>\n",
       "    </tr>\n",
       "    <tr>\n",
       "      <th>16</th>\n",
       "      <td>0.3</td>\n",
       "      <td>512</td>\n",
       "      <td>0.015</td>\n",
       "      <td>7</td>\n",
       "      <td>100</td>\n",
       "      <td>3796.874093</td>\n",
       "      <td>3724.586563</td>\n",
       "      <td>4746.526367</td>\n",
       "    </tr>\n",
       "    <tr>\n",
       "      <th>14</th>\n",
       "      <td>0.2</td>\n",
       "      <td>625</td>\n",
       "      <td>0.016</td>\n",
       "      <td>16</td>\n",
       "      <td>100</td>\n",
       "      <td>4172.122287</td>\n",
       "      <td>4668.744792</td>\n",
       "      <td>5020.903809</td>\n",
       "    </tr>\n",
       "    <tr>\n",
       "      <th>10</th>\n",
       "      <td>0.2</td>\n",
       "      <td>625</td>\n",
       "      <td>0.015</td>\n",
       "      <td>16</td>\n",
       "      <td>100</td>\n",
       "      <td>4212.159433</td>\n",
       "      <td>4619.943563</td>\n",
       "      <td>5034.509277</td>\n",
       "    </tr>\n",
       "    <tr>\n",
       "      <th>30</th>\n",
       "      <td>0.3</td>\n",
       "      <td>625</td>\n",
       "      <td>0.016</td>\n",
       "      <td>16</td>\n",
       "      <td>100</td>\n",
       "      <td>4248.950747</td>\n",
       "      <td>4681.887533</td>\n",
       "      <td>5054.290039</td>\n",
       "    </tr>\n",
       "    <tr>\n",
       "      <th>6</th>\n",
       "      <td>0.2</td>\n",
       "      <td>512</td>\n",
       "      <td>0.016</td>\n",
       "      <td>16</td>\n",
       "      <td>100</td>\n",
       "      <td>4263.394938</td>\n",
       "      <td>4752.920085</td>\n",
       "      <td>5137.053711</td>\n",
       "    </tr>\n",
       "    <tr>\n",
       "      <th>26</th>\n",
       "      <td>0.3</td>\n",
       "      <td>625</td>\n",
       "      <td>0.015</td>\n",
       "      <td>16</td>\n",
       "      <td>100</td>\n",
       "      <td>4318.492875</td>\n",
       "      <td>4810.557739</td>\n",
       "      <td>5231.558105</td>\n",
       "    </tr>\n",
       "    <tr>\n",
       "      <th>2</th>\n",
       "      <td>0.2</td>\n",
       "      <td>512</td>\n",
       "      <td>0.015</td>\n",
       "      <td>16</td>\n",
       "      <td>100</td>\n",
       "      <td>4357.862160</td>\n",
       "      <td>4909.800415</td>\n",
       "      <td>5343.790039</td>\n",
       "    </tr>\n",
       "    <tr>\n",
       "      <th>18</th>\n",
       "      <td>0.3</td>\n",
       "      <td>512</td>\n",
       "      <td>0.015</td>\n",
       "      <td>16</td>\n",
       "      <td>100</td>\n",
       "      <td>4447.767054</td>\n",
       "      <td>4888.714640</td>\n",
       "      <td>5364.090332</td>\n",
       "    </tr>\n",
       "    <tr>\n",
       "      <th>22</th>\n",
       "      <td>0.3</td>\n",
       "      <td>512</td>\n",
       "      <td>0.016</td>\n",
       "      <td>16</td>\n",
       "      <td>100</td>\n",
       "      <td>4183.811519</td>\n",
       "      <td>4892.694010</td>\n",
       "      <td>5375.497559</td>\n",
       "    </tr>\n",
       "  </tbody>\n",
       "</table>\n",
       "</div>"
      ],
      "text/plain": [
       "    dropout_rate  hidden_size  learning_rate  batch_size  num_epochs  \\\n",
       "29           0.3          625          0.016           7         200   \n",
       "15           0.2          625          0.016          16         200   \n",
       "13           0.2          625          0.016           7         200   \n",
       "7            0.2          512          0.016          16         200   \n",
       "25           0.3          625          0.015           7         200   \n",
       "1            0.2          512          0.015           7         200   \n",
       "17           0.3          512          0.015           7         200   \n",
       "4            0.2          512          0.016           7         100   \n",
       "27           0.3          625          0.015          16         200   \n",
       "21           0.3          512          0.016           7         200   \n",
       "23           0.3          512          0.016          16         200   \n",
       "19           0.3          512          0.015          16         200   \n",
       "31           0.3          625          0.016          16         200   \n",
       "11           0.2          625          0.015          16         200   \n",
       "8            0.2          625          0.015           7         100   \n",
       "9            0.2          625          0.015           7         200   \n",
       "5            0.2          512          0.016           7         200   \n",
       "3            0.2          512          0.015          16         200   \n",
       "28           0.3          625          0.016           7         100   \n",
       "12           0.2          625          0.016           7         100   \n",
       "24           0.3          625          0.015           7         100   \n",
       "20           0.3          512          0.016           7         100   \n",
       "0            0.2          512          0.015           7         100   \n",
       "16           0.3          512          0.015           7         100   \n",
       "14           0.2          625          0.016          16         100   \n",
       "10           0.2          625          0.015          16         100   \n",
       "30           0.3          625          0.016          16         100   \n",
       "6            0.2          512          0.016          16         100   \n",
       "26           0.3          625          0.015          16         100   \n",
       "2            0.2          512          0.015          16         100   \n",
       "18           0.3          512          0.015          16         100   \n",
       "22           0.3          512          0.016          16         100   \n",
       "\n",
       "     train_loss    test_loss         rmse  \n",
       "29  3595.375143  3227.794449  4229.348633  \n",
       "15  4021.557237  4185.995443  4240.204590  \n",
       "13  3560.813012  3241.997579  4245.666504  \n",
       "7   3766.080874  4185.175537  4251.124023  \n",
       "25  3567.564479  3274.340729  4271.748535  \n",
       "1   3504.283751  3248.018954  4274.624512  \n",
       "17  3512.163927  3189.259542  4284.943848  \n",
       "4   3715.296963  3298.452044  4302.848633  \n",
       "27  3874.339084  4232.069092  4303.634766  \n",
       "21  3579.636200  3269.887332  4315.901855  \n",
       "23  3924.956550  4233.946533  4317.363281  \n",
       "19  3827.366690  4235.291585  4332.859375  \n",
       "31  3826.468289  4272.714355  4332.984863  \n",
       "11  3790.047996  4303.666504  4348.475586  \n",
       "8   3769.151175  3386.656804  4357.328613  \n",
       "9   3548.492966  3265.441523  4360.201172  \n",
       "5   3443.761646  3371.078990  4379.930176  \n",
       "3   3948.744936  4320.509521  4409.774414  \n",
       "28  3687.600521  3459.893578  4476.802246  \n",
       "12  3715.813200  3509.187213  4478.835449  \n",
       "24  3837.567550  3500.258082  4539.389648  \n",
       "20  3615.026724  3518.012541  4587.404297  \n",
       "0   3820.364986  3680.771985  4654.001465  \n",
       "16  3796.874093  3724.586563  4746.526367  \n",
       "14  4172.122287  4668.744792  5020.903809  \n",
       "10  4212.159433  4619.943563  5034.509277  \n",
       "30  4248.950747  4681.887533  5054.290039  \n",
       "6   4263.394938  4752.920085  5137.053711  \n",
       "26  4318.492875  4810.557739  5231.558105  \n",
       "2   4357.862160  4909.800415  5343.790039  \n",
       "18  4447.767054  4888.714640  5364.090332  \n",
       "22  4183.811519  4892.694010  5375.497559  "
      ]
     },
     "execution_count": 167,
     "metadata": {},
     "output_type": "execute_result"
    }
   ],
   "source": [
    "pd.DataFrame(results).sort_values(by='rmse')"
   ]
  },
  {
   "cell_type": "markdown",
   "id": "3ede91f2",
   "metadata": {},
   "source": [
    "## Выводы"
   ]
  },
  {
   "cell_type": "markdown",
   "id": "1f4e47a0",
   "metadata": {},
   "source": [
    "1. Базовая модель \n",
    "- RMSE = 5626 \n",
    "2. Улучшенная модель c дропаутом и перебором батчей и эпох:\n",
    "- скрытые слои 625\n",
    "- шаг обучения 0,016\n",
    "- дропаут 0,3\n",
    "- батч 7\n",
    "- эпохи 200\n",
    "- лучшая RMSE = 4229\n",
    "3. Основным факторов повлиявшим на улучшение показателей модели является стратификация признака цвет звезды"
   ]
  }
 ],
 "metadata": {
  "ExecuteTimeLog": [
   {
    "duration": 2949,
    "start_time": "2025-02-08T13:22:13.236Z"
   },
   {
    "duration": 5,
    "start_time": "2025-02-08T13:22:51.884Z"
   },
   {
    "duration": 249,
    "start_time": "2025-02-08T13:23:13.164Z"
   },
   {
    "duration": 3,
    "start_time": "2025-02-08T13:23:21.907Z"
   },
   {
    "duration": 147,
    "start_time": "2025-02-08T13:23:23.163Z"
   },
   {
    "duration": 53,
    "start_time": "2025-02-08T13:24:04.292Z"
   },
   {
    "duration": 15,
    "start_time": "2025-02-08T17:37:41.576Z"
   },
   {
    "duration": 29,
    "start_time": "2025-02-08T17:38:00.656Z"
   },
   {
    "duration": 4983,
    "start_time": "2025-02-08T17:38:17.783Z"
   },
   {
    "duration": 462,
    "start_time": "2025-02-08T17:38:30.016Z"
   },
   {
    "duration": 3,
    "start_time": "2025-02-08T17:38:32.688Z"
   },
   {
    "duration": 54,
    "start_time": "2025-02-08T17:38:34.656Z"
   },
   {
    "duration": 3,
    "start_time": "2025-02-08T17:38:48.160Z"
   },
   {
    "duration": 23,
    "start_time": "2025-02-08T17:38:55.312Z"
   },
   {
    "duration": 6,
    "start_time": "2025-02-08T17:39:35.441Z"
   },
   {
    "duration": 4,
    "start_time": "2025-02-08T17:39:54.537Z"
   },
   {
    "duration": 55,
    "start_time": "2025-02-08T17:40:09.537Z"
   },
   {
    "duration": 3,
    "start_time": "2025-02-08T17:40:15.187Z"
   },
   {
    "duration": 35,
    "start_time": "2025-02-08T17:40:15.192Z"
   },
   {
    "duration": 59,
    "start_time": "2025-02-08T17:40:15.229Z"
   },
   {
    "duration": 111,
    "start_time": "2025-02-08T17:40:15.290Z"
   },
   {
    "duration": 10,
    "start_time": "2025-02-08T17:40:15.403Z"
   },
   {
    "duration": 19,
    "start_time": "2025-02-08T17:40:15.415Z"
   },
   {
    "duration": 5,
    "start_time": "2025-02-08T17:40:15.435Z"
   },
   {
    "duration": 3,
    "start_time": "2025-02-08T17:40:18.107Z"
   },
   {
    "duration": 4,
    "start_time": "2025-02-08T17:40:30.314Z"
   },
   {
    "duration": 3,
    "start_time": "2025-02-08T17:40:40.297Z"
   },
   {
    "duration": 4,
    "start_time": "2025-02-08T17:40:54.881Z"
   },
   {
    "duration": 3,
    "start_time": "2025-02-08T17:41:10.337Z"
   },
   {
    "duration": 4,
    "start_time": "2025-02-08T17:41:55.083Z"
   },
   {
    "duration": 4,
    "start_time": "2025-02-08T17:42:02.250Z"
   },
   {
    "duration": 7,
    "start_time": "2025-02-08T17:42:18.699Z"
   },
   {
    "duration": 170,
    "start_time": "2025-02-08T17:45:31.972Z"
   },
   {
    "duration": 103,
    "start_time": "2025-02-08T17:45:44.211Z"
   },
   {
    "duration": 8,
    "start_time": "2025-02-08T17:45:58.620Z"
   },
   {
    "duration": 142,
    "start_time": "2025-02-08T17:46:06.875Z"
   },
   {
    "duration": 90,
    "start_time": "2025-02-08T17:46:16.027Z"
   },
   {
    "duration": 7,
    "start_time": "2025-02-08T17:46:34.612Z"
   },
   {
    "duration": 155,
    "start_time": "2025-02-08T17:46:42.452Z"
   },
   {
    "duration": 99,
    "start_time": "2025-02-08T17:46:49.868Z"
   },
   {
    "duration": 8,
    "start_time": "2025-02-08T17:47:05.460Z"
   },
   {
    "duration": 138,
    "start_time": "2025-02-08T17:47:12.686Z"
   },
   {
    "duration": 103,
    "start_time": "2025-02-08T17:47:20.772Z"
   },
   {
    "duration": 6,
    "start_time": "2025-02-08T17:47:41.277Z"
   },
   {
    "duration": 6,
    "start_time": "2025-02-08T17:48:07.269Z"
   },
   {
    "duration": 5,
    "start_time": "2025-02-08T17:48:28.182Z"
   },
   {
    "duration": 5,
    "start_time": "2025-02-08T17:48:34.958Z"
   },
   {
    "duration": 290,
    "start_time": "2025-02-08T17:48:53.150Z"
   },
   {
    "duration": 18,
    "start_time": "2025-02-08T17:49:09.766Z"
   },
   {
    "duration": 119,
    "start_time": "2025-02-08T17:49:15.510Z"
   },
   {
    "duration": 283,
    "start_time": "2025-02-08T17:49:48.262Z"
   },
   {
    "duration": 580,
    "start_time": "2025-02-08T17:49:55.773Z"
   },
   {
    "duration": 6,
    "start_time": "2025-02-08T17:50:33.958Z"
   },
   {
    "duration": 3,
    "start_time": "2025-02-08T17:50:43.358Z"
   },
   {
    "duration": 3,
    "start_time": "2025-02-08T17:50:58.903Z"
   },
   {
    "duration": 3,
    "start_time": "2025-02-08T17:51:10.974Z"
   },
   {
    "duration": 23,
    "start_time": "2025-02-08T17:51:18.455Z"
   },
   {
    "duration": 23,
    "start_time": "2025-02-08T17:51:29.767Z"
   },
   {
    "duration": 64,
    "start_time": "2025-02-08T17:52:37.792Z"
   },
   {
    "duration": 5598,
    "start_time": "2025-02-08T17:52:46.416Z"
   },
   {
    "duration": 3,
    "start_time": "2025-02-08T17:53:18.472Z"
   },
   {
    "duration": 1217,
    "start_time": "2025-02-08T17:53:57.632Z"
   },
   {
    "duration": 2217,
    "start_time": "2025-02-08T17:54:24.840Z"
   },
   {
    "duration": 3,
    "start_time": "2025-02-08T17:54:40.088Z"
   },
   {
    "duration": 1740,
    "start_time": "2025-02-08T17:54:42.816Z"
   },
   {
    "duration": 120,
    "start_time": "2025-02-08T17:54:57.465Z"
   },
   {
    "duration": 10,
    "start_time": "2025-02-08T17:55:06.018Z"
   },
   {
    "duration": 0,
    "start_time": "2025-02-08T17:55:06.029Z"
   },
   {
    "duration": 10,
    "start_time": "2025-02-08T17:55:15.864Z"
   },
   {
    "duration": 3,
    "start_time": "2025-02-08T17:55:23.180Z"
   },
   {
    "duration": 3,
    "start_time": "2025-02-08T17:55:23.184Z"
   },
   {
    "duration": 4,
    "start_time": "2025-02-08T17:55:23.188Z"
   },
   {
    "duration": 3,
    "start_time": "2025-02-08T17:55:23.193Z"
   },
   {
    "duration": 50,
    "start_time": "2025-02-08T17:55:23.198Z"
   },
   {
    "duration": 2,
    "start_time": "2025-02-08T17:55:23.250Z"
   },
   {
    "duration": 20,
    "start_time": "2025-02-08T17:55:23.254Z"
   },
   {
    "duration": 5,
    "start_time": "2025-02-08T17:55:23.275Z"
   },
   {
    "duration": 4,
    "start_time": "2025-02-08T17:55:23.281Z"
   },
   {
    "duration": 4,
    "start_time": "2025-02-08T17:55:23.286Z"
   },
   {
    "duration": 3,
    "start_time": "2025-02-08T17:55:23.292Z"
   },
   {
    "duration": 6,
    "start_time": "2025-02-08T17:55:23.296Z"
   },
   {
    "duration": 6,
    "start_time": "2025-02-08T17:55:23.305Z"
   },
   {
    "duration": 3,
    "start_time": "2025-02-08T17:55:23.313Z"
   },
   {
    "duration": 5,
    "start_time": "2025-02-08T17:55:23.317Z"
   },
   {
    "duration": 7,
    "start_time": "2025-02-08T17:55:23.324Z"
   },
   {
    "duration": 193,
    "start_time": "2025-02-08T17:55:23.333Z"
   },
   {
    "duration": 115,
    "start_time": "2025-02-08T17:55:23.527Z"
   },
   {
    "duration": 7,
    "start_time": "2025-02-08T17:55:23.643Z"
   },
   {
    "duration": 156,
    "start_time": "2025-02-08T17:55:23.652Z"
   },
   {
    "duration": 103,
    "start_time": "2025-02-08T17:55:23.809Z"
   },
   {
    "duration": 8,
    "start_time": "2025-02-08T17:55:23.913Z"
   },
   {
    "duration": 165,
    "start_time": "2025-02-08T17:55:23.922Z"
   },
   {
    "duration": 110,
    "start_time": "2025-02-08T17:55:24.089Z"
   },
   {
    "duration": 7,
    "start_time": "2025-02-08T17:55:24.201Z"
   },
   {
    "duration": 151,
    "start_time": "2025-02-08T17:55:24.209Z"
   },
   {
    "duration": 100,
    "start_time": "2025-02-08T17:55:24.361Z"
   },
   {
    "duration": 14,
    "start_time": "2025-02-08T17:55:24.463Z"
   },
   {
    "duration": 4,
    "start_time": "2025-02-08T17:55:24.479Z"
   },
   {
    "duration": 5,
    "start_time": "2025-02-08T17:55:24.485Z"
   },
   {
    "duration": 14,
    "start_time": "2025-02-08T17:55:24.491Z"
   },
   {
    "duration": 129,
    "start_time": "2025-02-08T17:55:24.506Z"
   },
   {
    "duration": 380,
    "start_time": "2025-02-08T17:55:24.637Z"
   },
   {
    "duration": 497,
    "start_time": "2025-02-08T17:55:25.019Z"
   },
   {
    "duration": 5,
    "start_time": "2025-02-08T17:55:25.517Z"
   },
   {
    "duration": 3,
    "start_time": "2025-02-08T17:55:25.524Z"
   },
   {
    "duration": 3,
    "start_time": "2025-02-08T17:55:25.530Z"
   },
   {
    "duration": 3,
    "start_time": "2025-02-08T17:55:30.153Z"
   },
   {
    "duration": 18,
    "start_time": "2025-02-08T17:55:32.195Z"
   },
   {
    "duration": 19,
    "start_time": "2025-02-08T17:56:12.057Z"
   },
   {
    "duration": 1181,
    "start_time": "2025-02-08T17:56:31.368Z"
   },
   {
    "duration": 13636,
    "start_time": "2025-02-08T17:57:14.361Z"
   },
   {
    "duration": 2,
    "start_time": "2025-02-08T17:57:33.978Z"
   },
   {
    "duration": 1767,
    "start_time": "2025-02-08T17:57:48.322Z"
   },
   {
    "duration": 2,
    "start_time": "2025-02-08T17:58:11.445Z"
   },
   {
    "duration": 28,
    "start_time": "2025-02-08T17:58:11.449Z"
   },
   {
    "duration": 8,
    "start_time": "2025-02-08T17:58:11.479Z"
   },
   {
    "duration": 5,
    "start_time": "2025-02-08T17:58:11.488Z"
   },
   {
    "duration": 62,
    "start_time": "2025-02-08T17:58:11.494Z"
   },
   {
    "duration": 2,
    "start_time": "2025-02-08T17:58:11.558Z"
   },
   {
    "duration": 21,
    "start_time": "2025-02-08T17:58:11.562Z"
   },
   {
    "duration": 6,
    "start_time": "2025-02-08T17:58:11.584Z"
   },
   {
    "duration": 4,
    "start_time": "2025-02-08T17:58:11.591Z"
   },
   {
    "duration": 10,
    "start_time": "2025-02-08T17:58:11.596Z"
   },
   {
    "duration": 12,
    "start_time": "2025-02-08T17:58:11.607Z"
   },
   {
    "duration": 6,
    "start_time": "2025-02-08T17:58:11.620Z"
   },
   {
    "duration": 2,
    "start_time": "2025-02-08T17:58:11.628Z"
   },
   {
    "duration": 5,
    "start_time": "2025-02-08T17:58:11.631Z"
   },
   {
    "duration": 3,
    "start_time": "2025-02-08T17:58:11.637Z"
   },
   {
    "duration": 7,
    "start_time": "2025-02-08T17:58:11.642Z"
   },
   {
    "duration": 183,
    "start_time": "2025-02-08T17:58:11.650Z"
   },
   {
    "duration": 117,
    "start_time": "2025-02-08T17:58:11.834Z"
   },
   {
    "duration": 7,
    "start_time": "2025-02-08T17:58:11.953Z"
   },
   {
    "duration": 163,
    "start_time": "2025-02-08T17:58:11.961Z"
   },
   {
    "duration": 100,
    "start_time": "2025-02-08T17:58:12.126Z"
   },
   {
    "duration": 7,
    "start_time": "2025-02-08T17:58:12.227Z"
   },
   {
    "duration": 169,
    "start_time": "2025-02-08T17:58:12.235Z"
   },
   {
    "duration": 102,
    "start_time": "2025-02-08T17:58:12.406Z"
   },
   {
    "duration": 6,
    "start_time": "2025-02-08T17:58:12.510Z"
   },
   {
    "duration": 148,
    "start_time": "2025-02-08T17:58:12.518Z"
   },
   {
    "duration": 96,
    "start_time": "2025-02-08T17:58:12.667Z"
   },
   {
    "duration": 10,
    "start_time": "2025-02-08T17:58:12.765Z"
   },
   {
    "duration": 4,
    "start_time": "2025-02-08T17:58:12.777Z"
   },
   {
    "duration": 4,
    "start_time": "2025-02-08T17:58:12.783Z"
   },
   {
    "duration": 8,
    "start_time": "2025-02-08T17:58:12.788Z"
   },
   {
    "duration": 229,
    "start_time": "2025-02-08T17:58:12.797Z"
   },
   {
    "duration": 302,
    "start_time": "2025-02-08T17:58:13.028Z"
   },
   {
    "duration": 503,
    "start_time": "2025-02-08T17:58:13.331Z"
   },
   {
    "duration": 7,
    "start_time": "2025-02-08T17:58:13.836Z"
   },
   {
    "duration": 3,
    "start_time": "2025-02-08T17:58:13.845Z"
   },
   {
    "duration": 23,
    "start_time": "2025-02-08T17:58:13.852Z"
   },
   {
    "duration": 3,
    "start_time": "2025-02-08T17:58:13.876Z"
   },
   {
    "duration": 17,
    "start_time": "2025-02-08T17:58:15.337Z"
   },
   {
    "duration": 10,
    "start_time": "2025-02-08T17:58:29.581Z"
   },
   {
    "duration": 2,
    "start_time": "2025-02-08T17:59:26.435Z"
   },
   {
    "duration": 4,
    "start_time": "2025-02-08T17:59:36.891Z"
   },
   {
    "duration": 4,
    "start_time": "2025-02-08T18:00:13.378Z"
   },
   {
    "duration": 4,
    "start_time": "2025-02-08T18:00:22.067Z"
   },
   {
    "duration": 4912,
    "start_time": "2025-02-08T18:00:29.962Z"
   },
   {
    "duration": 129,
    "start_time": "2025-02-08T18:00:42.971Z"
   },
   {
    "duration": 4,
    "start_time": "2025-02-08T18:00:54.604Z"
   },
   {
    "duration": 5,
    "start_time": "2025-02-08T18:01:04.988Z"
   },
   {
    "duration": 6,
    "start_time": "2025-02-08T18:01:05.050Z"
   },
   {
    "duration": 255,
    "start_time": "2025-02-08T18:02:14.267Z"
   },
   {
    "duration": 4,
    "start_time": "2025-02-08T18:05:05.989Z"
   },
   {
    "duration": 4,
    "start_time": "2025-02-08T18:05:39.941Z"
   },
   {
    "duration": 252402,
    "start_time": "2025-02-08T18:06:14.885Z"
   },
   {
    "duration": 3,
    "start_time": "2025-02-08T18:11:38.127Z"
   },
   {
    "duration": 4,
    "start_time": "2025-02-08T18:11:40.231Z"
   },
   {
    "duration": 3,
    "start_time": "2025-02-08T18:11:41.525Z"
   },
   {
    "duration": 5,
    "start_time": "2025-02-08T18:11:43.127Z"
   },
   {
    "duration": 15627,
    "start_time": "2025-02-08T18:11:45.048Z"
   },
   {
    "duration": 5,
    "start_time": "2025-02-08T18:12:02.200Z"
   },
   {
    "duration": 348,
    "start_time": "2025-02-08T18:12:08.440Z"
   },
   {
    "duration": 4,
    "start_time": "2025-02-08T18:12:12.503Z"
   },
   {
    "duration": 4,
    "start_time": "2025-02-08T18:12:15.008Z"
   },
   {
    "duration": 365013,
    "start_time": "2025-02-08T18:14:09.483Z"
   },
   {
    "duration": 9,
    "start_time": "2025-02-08T18:21:13.195Z"
   },
   {
    "duration": 3,
    "start_time": "2025-02-09T12:26:48.459Z"
   },
   {
    "duration": 28,
    "start_time": "2025-02-09T12:26:48.464Z"
   },
   {
    "duration": 1722,
    "start_time": "2025-02-09T12:26:48.494Z"
   },
   {
    "duration": 0,
    "start_time": "2025-02-09T12:26:50.219Z"
   },
   {
    "duration": 0,
    "start_time": "2025-02-09T12:26:50.220Z"
   },
   {
    "duration": 0,
    "start_time": "2025-02-09T12:26:50.221Z"
   },
   {
    "duration": 0,
    "start_time": "2025-02-09T12:26:50.222Z"
   },
   {
    "duration": 0,
    "start_time": "2025-02-09T12:26:50.223Z"
   },
   {
    "duration": 0,
    "start_time": "2025-02-09T12:26:50.224Z"
   },
   {
    "duration": 0,
    "start_time": "2025-02-09T12:26:50.225Z"
   },
   {
    "duration": 0,
    "start_time": "2025-02-09T12:26:50.226Z"
   },
   {
    "duration": 0,
    "start_time": "2025-02-09T12:26:50.227Z"
   },
   {
    "duration": 0,
    "start_time": "2025-02-09T12:26:50.228Z"
   },
   {
    "duration": 0,
    "start_time": "2025-02-09T12:26:50.229Z"
   },
   {
    "duration": 0,
    "start_time": "2025-02-09T12:26:50.230Z"
   },
   {
    "duration": 0,
    "start_time": "2025-02-09T12:26:50.231Z"
   },
   {
    "duration": 0,
    "start_time": "2025-02-09T12:26:50.232Z"
   },
   {
    "duration": 0,
    "start_time": "2025-02-09T12:26:50.234Z"
   },
   {
    "duration": 0,
    "start_time": "2025-02-09T12:26:50.234Z"
   },
   {
    "duration": 0,
    "start_time": "2025-02-09T12:26:50.236Z"
   },
   {
    "duration": 0,
    "start_time": "2025-02-09T12:26:50.236Z"
   },
   {
    "duration": 0,
    "start_time": "2025-02-09T12:26:50.238Z"
   },
   {
    "duration": 0,
    "start_time": "2025-02-09T12:26:50.239Z"
   },
   {
    "duration": 0,
    "start_time": "2025-02-09T12:26:50.240Z"
   },
   {
    "duration": 0,
    "start_time": "2025-02-09T12:26:50.241Z"
   },
   {
    "duration": 0,
    "start_time": "2025-02-09T12:26:50.242Z"
   },
   {
    "duration": 0,
    "start_time": "2025-02-09T12:26:50.243Z"
   },
   {
    "duration": 0,
    "start_time": "2025-02-09T12:26:50.244Z"
   },
   {
    "duration": 0,
    "start_time": "2025-02-09T12:26:50.245Z"
   },
   {
    "duration": 0,
    "start_time": "2025-02-09T12:26:50.246Z"
   },
   {
    "duration": 0,
    "start_time": "2025-02-09T12:26:50.247Z"
   },
   {
    "duration": 0,
    "start_time": "2025-02-09T12:26:50.248Z"
   },
   {
    "duration": 0,
    "start_time": "2025-02-09T12:26:50.249Z"
   },
   {
    "duration": 1,
    "start_time": "2025-02-09T12:26:50.249Z"
   },
   {
    "duration": 0,
    "start_time": "2025-02-09T12:26:50.251Z"
   },
   {
    "duration": 0,
    "start_time": "2025-02-09T12:26:50.251Z"
   },
   {
    "duration": 109562,
    "start_time": "2025-02-09T12:27:31.643Z"
   },
   {
    "duration": 3,
    "start_time": "2025-02-09T12:29:51.973Z"
   },
   {
    "duration": 16,
    "start_time": "2025-02-09T12:29:54.036Z"
   },
   {
    "duration": 2125,
    "start_time": "2025-02-09T12:30:08.908Z"
   },
   {
    "duration": 3,
    "start_time": "2025-02-09T12:30:20.765Z"
   },
   {
    "duration": 15,
    "start_time": "2025-02-09T12:30:20.769Z"
   },
   {
    "duration": 47,
    "start_time": "2025-02-09T12:30:20.785Z"
   },
   {
    "duration": 37,
    "start_time": "2025-02-09T12:30:20.833Z"
   },
   {
    "duration": 85,
    "start_time": "2025-02-09T12:30:20.872Z"
   },
   {
    "duration": 3,
    "start_time": "2025-02-09T12:30:20.958Z"
   },
   {
    "duration": 45,
    "start_time": "2025-02-09T12:30:20.963Z"
   },
   {
    "duration": 16,
    "start_time": "2025-02-09T12:30:21.010Z"
   },
   {
    "duration": 34,
    "start_time": "2025-02-09T12:30:21.027Z"
   },
   {
    "duration": 18,
    "start_time": "2025-02-09T12:30:21.063Z"
   },
   {
    "duration": 24,
    "start_time": "2025-02-09T12:30:21.083Z"
   },
   {
    "duration": 34,
    "start_time": "2025-02-09T12:30:21.109Z"
   },
   {
    "duration": 54,
    "start_time": "2025-02-09T12:30:21.147Z"
   },
   {
    "duration": 48,
    "start_time": "2025-02-09T12:30:21.203Z"
   },
   {
    "duration": 22,
    "start_time": "2025-02-09T12:30:21.253Z"
   },
   {
    "duration": 39,
    "start_time": "2025-02-09T12:30:21.277Z"
   },
   {
    "duration": 214,
    "start_time": "2025-02-09T12:30:21.318Z"
   },
   {
    "duration": 130,
    "start_time": "2025-02-09T12:30:21.533Z"
   },
   {
    "duration": 10,
    "start_time": "2025-02-09T12:30:21.664Z"
   },
   {
    "duration": 188,
    "start_time": "2025-02-09T12:30:21.675Z"
   },
   {
    "duration": 118,
    "start_time": "2025-02-09T12:30:21.865Z"
   },
   {
    "duration": 17,
    "start_time": "2025-02-09T12:30:21.985Z"
   },
   {
    "duration": 215,
    "start_time": "2025-02-09T12:30:22.004Z"
   },
   {
    "duration": 133,
    "start_time": "2025-02-09T12:30:22.221Z"
   },
   {
    "duration": 9,
    "start_time": "2025-02-09T12:30:22.356Z"
   },
   {
    "duration": 190,
    "start_time": "2025-02-09T12:30:22.366Z"
   },
   {
    "duration": 125,
    "start_time": "2025-02-09T12:30:22.558Z"
   },
   {
    "duration": 5,
    "start_time": "2025-02-09T12:30:22.685Z"
   },
   {
    "duration": 37,
    "start_time": "2025-02-09T12:30:22.692Z"
   },
   {
    "duration": 51,
    "start_time": "2025-02-09T12:30:22.730Z"
   },
   {
    "duration": 30,
    "start_time": "2025-02-09T12:30:22.782Z"
   },
   {
    "duration": 286,
    "start_time": "2025-02-09T12:30:22.813Z"
   },
   {
    "duration": 342,
    "start_time": "2025-02-09T12:30:23.101Z"
   },
   {
    "duration": 565,
    "start_time": "2025-02-09T12:30:23.445Z"
   },
   {
    "duration": 7,
    "start_time": "2025-02-09T12:30:24.012Z"
   },
   {
    "duration": 3,
    "start_time": "2025-02-09T12:31:52.253Z"
   },
   {
    "duration": 3,
    "start_time": "2025-02-09T12:31:54.006Z"
   },
   {
    "duration": 144,
    "start_time": "2025-02-09T12:31:55.893Z"
   },
   {
    "duration": 3,
    "start_time": "2025-02-09T12:32:07.384Z"
   },
   {
    "duration": 18,
    "start_time": "2025-02-09T12:32:10.176Z"
   },
   {
    "duration": 18,
    "start_time": "2025-02-09T12:32:12.094Z"
   },
   {
    "duration": 3,
    "start_time": "2025-02-09T12:32:18.526Z"
   },
   {
    "duration": 5,
    "start_time": "2025-02-09T12:32:20.558Z"
   },
   {
    "duration": 560,
    "start_time": "2025-02-09T12:34:22.751Z"
   },
   {
    "duration": 12,
    "start_time": "2025-02-09T12:35:54.992Z"
   },
   {
    "duration": 3,
    "start_time": "2025-02-09T12:36:07.152Z"
   },
   {
    "duration": 21,
    "start_time": "2025-02-09T12:36:13.992Z"
   },
   {
    "duration": 20,
    "start_time": "2025-02-09T12:36:15.624Z"
   },
   {
    "duration": 3,
    "start_time": "2025-02-09T12:36:17.464Z"
   },
   {
    "duration": 5,
    "start_time": "2025-02-09T12:36:18.720Z"
   },
   {
    "duration": 4,
    "start_time": "2025-02-09T12:36:21.904Z"
   },
   {
    "duration": 11,
    "start_time": "2025-02-09T12:36:24.208Z"
   },
   {
    "duration": 3,
    "start_time": "2025-02-09T12:37:35.385Z"
   },
   {
    "duration": 11,
    "start_time": "2025-02-09T12:37:37.281Z"
   },
   {
    "duration": 4,
    "start_time": "2025-02-09T12:37:45.721Z"
   },
   {
    "duration": 17599,
    "start_time": "2025-02-09T12:38:01.176Z"
   },
   {
    "duration": 7,
    "start_time": "2025-02-09T12:38:33.642Z"
   },
   {
    "duration": 300,
    "start_time": "2025-02-09T12:38:36.833Z"
   },
   {
    "duration": 4,
    "start_time": "2025-02-09T12:40:21.861Z"
   },
   {
    "duration": 6,
    "start_time": "2025-02-09T12:40:38.945Z"
   },
   {
    "duration": 63190,
    "start_time": "2025-02-09T12:41:00.930Z"
   },
   {
    "duration": 3,
    "start_time": "2025-02-09T12:42:20.348Z"
   },
   {
    "duration": 5,
    "start_time": "2025-02-09T12:42:22.651Z"
   },
   {
    "duration": 4,
    "start_time": "2025-02-09T12:42:24.010Z"
   },
   {
    "duration": 3,
    "start_time": "2025-02-09T12:42:25.907Z"
   },
   {
    "duration": 4,
    "start_time": "2025-02-09T12:42:27.283Z"
   },
   {
    "duration": 33576,
    "start_time": "2025-02-09T12:42:28.427Z"
   },
   {
    "duration": 6,
    "start_time": "2025-02-09T12:43:14.034Z"
   },
   {
    "duration": 4,
    "start_time": "2025-02-09T12:44:07.811Z"
   },
   {
    "duration": 5,
    "start_time": "2025-02-09T12:44:11.349Z"
   },
   {
    "duration": 4,
    "start_time": "2025-02-09T12:44:13.613Z"
   },
   {
    "duration": 4,
    "start_time": "2025-02-09T12:44:16.476Z"
   },
   {
    "duration": 34773,
    "start_time": "2025-02-09T12:44:18.075Z"
   },
   {
    "duration": 7,
    "start_time": "2025-02-09T12:45:01.747Z"
   },
   {
    "duration": 3,
    "start_time": "2025-02-09T12:45:20.428Z"
   },
   {
    "duration": 5,
    "start_time": "2025-02-09T12:45:22.524Z"
   },
   {
    "duration": 4,
    "start_time": "2025-02-09T12:45:24.028Z"
   },
   {
    "duration": 3,
    "start_time": "2025-02-09T12:45:25.341Z"
   },
   {
    "duration": 4,
    "start_time": "2025-02-09T12:45:27.037Z"
   },
   {
    "duration": 36479,
    "start_time": "2025-02-09T12:45:28.318Z"
   },
   {
    "duration": 6,
    "start_time": "2025-02-09T12:46:10.484Z"
   },
   {
    "duration": 301,
    "start_time": "2025-02-09T12:46:23.445Z"
   },
   {
    "duration": 5,
    "start_time": "2025-02-09T12:46:30.957Z"
   },
   {
    "duration": 5,
    "start_time": "2025-02-09T12:46:33.485Z"
   },
   {
    "duration": 171425,
    "start_time": "2025-02-09T12:46:35.797Z"
   },
   {
    "duration": 39197,
    "start_time": "2025-02-09T12:49:43.735Z"
   },
   {
    "duration": 164204,
    "start_time": "2025-02-09T12:50:30.728Z"
   },
   {
    "duration": 5,
    "start_time": "2025-02-09T12:53:18.280Z"
   },
   {
    "duration": 4,
    "start_time": "2025-02-09T12:53:20.737Z"
   },
   {
    "duration": 160131,
    "start_time": "2025-02-09T12:53:22.793Z"
   },
   {
    "duration": 3,
    "start_time": "2025-02-09T12:56:17.970Z"
   },
   {
    "duration": 7,
    "start_time": "2025-02-09T12:56:19.467Z"
   },
   {
    "duration": 6,
    "start_time": "2025-02-09T12:56:21.122Z"
   },
   {
    "duration": 5,
    "start_time": "2025-02-09T12:56:22.779Z"
   },
   {
    "duration": 5,
    "start_time": "2025-02-09T12:56:24.538Z"
   },
   {
    "duration": 37227,
    "start_time": "2025-02-09T12:56:26.650Z"
   },
   {
    "duration": 5,
    "start_time": "2025-02-09T12:57:09.691Z"
   },
   {
    "duration": 5,
    "start_time": "2025-02-09T12:58:18.739Z"
   },
   {
    "duration": 7,
    "start_time": "2025-02-09T12:58:22.284Z"
   },
   {
    "duration": 108556,
    "start_time": "2025-02-09T12:58:33.566Z"
   },
   {
    "duration": 329693,
    "start_time": "2025-02-09T13:00:29.221Z"
   },
   {
    "duration": 3,
    "start_time": "2025-02-09T13:07:33.336Z"
   },
   {
    "duration": 5,
    "start_time": "2025-02-09T13:07:34.648Z"
   },
   {
    "duration": 4,
    "start_time": "2025-02-09T13:07:36.177Z"
   },
   {
    "duration": 4,
    "start_time": "2025-02-09T13:07:37.848Z"
   },
   {
    "duration": 4,
    "start_time": "2025-02-09T13:07:39.145Z"
   },
   {
    "duration": 72012,
    "start_time": "2025-02-09T13:07:40.800Z"
   },
   {
    "duration": 6,
    "start_time": "2025-02-09T13:08:57.953Z"
   },
   {
    "duration": 3,
    "start_time": "2025-02-09T13:09:26.837Z"
   },
   {
    "duration": 7,
    "start_time": "2025-02-09T13:09:28.354Z"
   },
   {
    "duration": 4,
    "start_time": "2025-02-09T13:09:29.482Z"
   },
   {
    "duration": 3,
    "start_time": "2025-02-09T13:09:31.507Z"
   },
   {
    "duration": 4,
    "start_time": "2025-02-09T13:09:32.985Z"
   },
   {
    "duration": 36722,
    "start_time": "2025-02-09T13:09:34.611Z"
   },
   {
    "duration": 6,
    "start_time": "2025-02-09T13:10:28.250Z"
   },
   {
    "duration": 3,
    "start_time": "2025-02-09T13:10:36.978Z"
   },
   {
    "duration": 4,
    "start_time": "2025-02-09T13:10:38.794Z"
   },
   {
    "duration": 4,
    "start_time": "2025-02-09T13:10:40.325Z"
   },
   {
    "duration": 4,
    "start_time": "2025-02-09T13:10:41.803Z"
   },
   {
    "duration": 4,
    "start_time": "2025-02-09T13:10:43.234Z"
   },
   {
    "duration": 40502,
    "start_time": "2025-02-09T13:10:44.346Z"
   },
   {
    "duration": 5,
    "start_time": "2025-02-09T13:11:28.308Z"
   },
   {
    "duration": 3,
    "start_time": "2025-02-09T13:11:43.090Z"
   },
   {
    "duration": 4,
    "start_time": "2025-02-09T13:11:46.234Z"
   },
   {
    "duration": 4,
    "start_time": "2025-02-09T13:11:47.466Z"
   },
   {
    "duration": 3,
    "start_time": "2025-02-09T13:11:49.251Z"
   },
   {
    "duration": 4,
    "start_time": "2025-02-09T13:11:50.874Z"
   },
   {
    "duration": 19436,
    "start_time": "2025-02-09T13:11:52.187Z"
   },
   {
    "duration": 11,
    "start_time": "2025-02-09T13:12:14.418Z"
   },
   {
    "duration": 3,
    "start_time": "2025-02-09T13:12:20.250Z"
   },
   {
    "duration": 5,
    "start_time": "2025-02-09T13:12:23.858Z"
   },
   {
    "duration": 5,
    "start_time": "2025-02-09T13:12:24.938Z"
   },
   {
    "duration": 4,
    "start_time": "2025-02-09T13:12:25.954Z"
   },
   {
    "duration": 3,
    "start_time": "2025-02-09T13:12:28.699Z"
   },
   {
    "duration": 71862,
    "start_time": "2025-02-09T13:12:30.123Z"
   },
   {
    "duration": 6,
    "start_time": "2025-02-09T13:13:45.341Z"
   },
   {
    "duration": 4,
    "start_time": "2025-02-09T13:14:06.147Z"
   },
   {
    "duration": 5,
    "start_time": "2025-02-09T13:14:09.716Z"
   },
   {
    "duration": 3,
    "start_time": "2025-02-09T13:14:10.812Z"
   },
   {
    "duration": 3,
    "start_time": "2025-02-09T13:14:12.308Z"
   },
   {
    "duration": 3,
    "start_time": "2025-02-09T13:14:13.820Z"
   },
   {
    "duration": 41941,
    "start_time": "2025-02-09T13:14:15.852Z"
   },
   {
    "duration": 8,
    "start_time": "2025-02-09T13:15:02.659Z"
   },
   {
    "duration": 3,
    "start_time": "2025-02-09T13:15:25.324Z"
   },
   {
    "duration": 3,
    "start_time": "2025-02-09T13:15:33.228Z"
   },
   {
    "duration": 45423,
    "start_time": "2025-02-09T13:15:36.079Z"
   },
   {
    "duration": 7,
    "start_time": "2025-02-09T13:16:24.388Z"
   },
   {
    "duration": 3,
    "start_time": "2025-02-09T13:16:30.437Z"
   },
   {
    "duration": 48769,
    "start_time": "2025-02-09T13:16:34.093Z"
   },
   {
    "duration": 5,
    "start_time": "2025-02-09T13:17:25.493Z"
   },
   {
    "duration": 3,
    "start_time": "2025-02-09T13:17:28.749Z"
   },
   {
    "duration": 5,
    "start_time": "2025-02-09T13:17:29.829Z"
   },
   {
    "duration": 4,
    "start_time": "2025-02-09T13:17:30.909Z"
   },
   {
    "duration": 4,
    "start_time": "2025-02-09T13:17:32.389Z"
   },
   {
    "duration": 4,
    "start_time": "2025-02-09T13:17:33.880Z"
   },
   {
    "duration": 42013,
    "start_time": "2025-02-09T13:17:35.389Z"
   },
   {
    "duration": 6,
    "start_time": "2025-02-09T13:18:26.246Z"
   },
   {
    "duration": 2,
    "start_time": "2025-02-09T13:18:42.246Z"
   },
   {
    "duration": 5,
    "start_time": "2025-02-09T13:18:44.086Z"
   },
   {
    "duration": 3,
    "start_time": "2025-02-09T13:18:45.850Z"
   },
   {
    "duration": 3,
    "start_time": "2025-02-09T13:18:47.199Z"
   },
   {
    "duration": 4,
    "start_time": "2025-02-09T13:18:49.438Z"
   },
   {
    "duration": 50376,
    "start_time": "2025-02-09T13:18:52.462Z"
   },
   {
    "duration": 7,
    "start_time": "2025-02-09T13:19:45.598Z"
   },
   {
    "duration": 3,
    "start_time": "2025-02-09T13:20:01.591Z"
   },
   {
    "duration": 5,
    "start_time": "2025-02-09T13:20:03.782Z"
   },
   {
    "duration": 4,
    "start_time": "2025-02-09T13:20:04.814Z"
   },
   {
    "duration": 4,
    "start_time": "2025-02-09T13:20:06.486Z"
   },
   {
    "duration": 4,
    "start_time": "2025-02-09T13:20:07.670Z"
   },
   {
    "duration": 20805,
    "start_time": "2025-02-09T13:20:09.230Z"
   },
   {
    "duration": 6,
    "start_time": "2025-02-09T13:20:39.511Z"
   },
   {
    "duration": 5,
    "start_time": "2025-02-09T13:20:47.286Z"
   },
   {
    "duration": 4,
    "start_time": "2025-02-09T13:20:49.393Z"
   },
   {
    "duration": 67008,
    "start_time": "2025-02-09T13:21:22.671Z"
   },
   {
    "duration": 10,
    "start_time": "2025-02-09T13:22:47.679Z"
   },
   {
    "duration": 436714,
    "start_time": "2025-02-09T13:23:24.609Z"
   },
   {
    "duration": 8,
    "start_time": "2025-02-09T13:34:06.814Z"
   },
   {
    "duration": 219013,
    "start_time": "2025-02-09T13:34:49.511Z"
   },
   {
    "duration": 154986,
    "start_time": "2025-02-09T13:38:32.656Z"
   },
   {
    "duration": 8,
    "start_time": "2025-02-09T13:43:08.739Z"
   },
   {
    "duration": 3,
    "start_time": "2025-02-09T13:43:35.418Z"
   },
   {
    "duration": 10,
    "start_time": "2025-02-09T13:43:35.423Z"
   },
   {
    "duration": 11,
    "start_time": "2025-02-09T13:43:35.434Z"
   },
   {
    "duration": 3,
    "start_time": "2025-02-09T13:43:35.447Z"
   },
   {
    "duration": 109,
    "start_time": "2025-02-09T13:43:35.452Z"
   },
   {
    "duration": 3,
    "start_time": "2025-02-09T13:43:35.563Z"
   },
   {
    "duration": 52,
    "start_time": "2025-02-09T13:43:35.568Z"
   },
   {
    "duration": 22,
    "start_time": "2025-02-09T13:43:35.621Z"
   },
   {
    "duration": 10,
    "start_time": "2025-02-09T13:43:35.644Z"
   },
   {
    "duration": 7,
    "start_time": "2025-02-09T13:43:35.655Z"
   },
   {
    "duration": 12,
    "start_time": "2025-02-09T13:43:35.664Z"
   },
   {
    "duration": 21,
    "start_time": "2025-02-09T13:43:35.678Z"
   },
   {
    "duration": 106,
    "start_time": "2025-02-09T13:43:35.700Z"
   },
   {
    "duration": 45,
    "start_time": "2025-02-09T13:43:35.807Z"
   },
   {
    "duration": 27,
    "start_time": "2025-02-09T13:43:35.854Z"
   },
   {
    "duration": 29,
    "start_time": "2025-02-09T13:43:35.882Z"
   },
   {
    "duration": 196,
    "start_time": "2025-02-09T13:43:35.912Z"
   },
   {
    "duration": 115,
    "start_time": "2025-02-09T13:43:36.110Z"
   },
   {
    "duration": 8,
    "start_time": "2025-02-09T13:43:36.226Z"
   },
   {
    "duration": 172,
    "start_time": "2025-02-09T13:43:36.236Z"
   },
   {
    "duration": 108,
    "start_time": "2025-02-09T13:43:36.410Z"
   },
   {
    "duration": 7,
    "start_time": "2025-02-09T13:43:36.520Z"
   },
   {
    "duration": 189,
    "start_time": "2025-02-09T13:43:36.528Z"
   },
   {
    "duration": 132,
    "start_time": "2025-02-09T13:43:36.718Z"
   },
   {
    "duration": 9,
    "start_time": "2025-02-09T13:43:36.851Z"
   },
   {
    "duration": 165,
    "start_time": "2025-02-09T13:43:36.861Z"
   },
   {
    "duration": 117,
    "start_time": "2025-02-09T13:43:37.028Z"
   },
   {
    "duration": 6,
    "start_time": "2025-02-09T13:43:37.147Z"
   },
   {
    "duration": 154,
    "start_time": "2025-02-09T13:43:37.157Z"
   },
   {
    "duration": 6,
    "start_time": "2025-02-09T13:43:37.313Z"
   },
   {
    "duration": 31,
    "start_time": "2025-02-09T13:43:37.321Z"
   },
   {
    "duration": 22,
    "start_time": "2025-02-09T13:43:37.354Z"
   },
   {
    "duration": 143,
    "start_time": "2025-02-09T13:43:37.378Z"
   },
   {
    "duration": 443,
    "start_time": "2025-02-09T13:43:37.523Z"
   },
   {
    "duration": 581,
    "start_time": "2025-02-09T13:43:37.968Z"
   },
   {
    "duration": 6,
    "start_time": "2025-02-09T13:43:38.550Z"
   },
   {
    "duration": 18,
    "start_time": "2025-02-09T13:43:38.557Z"
   },
   {
    "duration": 7,
    "start_time": "2025-02-09T13:43:38.577Z"
   },
   {
    "duration": 4,
    "start_time": "2025-02-09T13:43:38.585Z"
   },
   {
    "duration": 95,
    "start_time": "2025-02-09T13:43:38.590Z"
   },
   {
    "duration": 0,
    "start_time": "2025-02-09T13:43:38.686Z"
   },
   {
    "duration": 0,
    "start_time": "2025-02-09T13:43:38.687Z"
   },
   {
    "duration": 0,
    "start_time": "2025-02-09T13:43:38.688Z"
   },
   {
    "duration": 3,
    "start_time": "2025-02-09T13:44:09.066Z"
   },
   {
    "duration": 18,
    "start_time": "2025-02-09T13:44:14.107Z"
   },
   {
    "duration": 18,
    "start_time": "2025-02-09T13:44:15.867Z"
   },
   {
    "duration": 2,
    "start_time": "2025-02-09T13:44:25.691Z"
   },
   {
    "duration": 5,
    "start_time": "2025-02-09T13:44:27.235Z"
   },
   {
    "duration": 4,
    "start_time": "2025-02-09T13:44:29.429Z"
   },
   {
    "duration": 4,
    "start_time": "2025-02-09T13:44:30.834Z"
   },
   {
    "duration": 6,
    "start_time": "2025-02-09T13:44:44.875Z"
   },
   {
    "duration": 11,
    "start_time": "2025-02-09T13:44:51.941Z"
   },
   {
    "duration": 4,
    "start_time": "2025-02-09T13:45:22.915Z"
   },
   {
    "duration": 49191,
    "start_time": "2025-02-09T13:45:26.467Z"
   },
   {
    "duration": 6,
    "start_time": "2025-02-09T13:46:54.988Z"
   },
   {
    "duration": 2,
    "start_time": "2025-02-09T13:47:14.093Z"
   },
   {
    "duration": 6,
    "start_time": "2025-02-09T13:47:16.587Z"
   },
   {
    "duration": 4,
    "start_time": "2025-02-09T13:47:18.316Z"
   },
   {
    "duration": 3,
    "start_time": "2025-02-09T13:47:20.877Z"
   },
   {
    "duration": 10,
    "start_time": "2025-02-09T13:47:26.108Z"
   },
   {
    "duration": 9011,
    "start_time": "2025-02-09T13:47:29.275Z"
   },
   {
    "duration": 6,
    "start_time": "2025-02-09T13:47:41.708Z"
   },
   {
    "duration": 10,
    "start_time": "2025-02-09T13:48:15.024Z"
   },
   {
    "duration": 6,
    "start_time": "2025-02-09T13:48:21.590Z"
   },
   {
    "duration": 8665,
    "start_time": "2025-02-09T13:48:22.925Z"
   },
   {
    "duration": 6,
    "start_time": "2025-02-09T13:48:40.277Z"
   },
   {
    "duration": 2,
    "start_time": "2025-02-09T13:50:43.261Z"
   },
   {
    "duration": 19,
    "start_time": "2025-02-09T13:50:43.265Z"
   },
   {
    "duration": 16,
    "start_time": "2025-02-09T13:50:43.286Z"
   },
   {
    "duration": 23,
    "start_time": "2025-02-09T13:50:43.304Z"
   },
   {
    "duration": 84,
    "start_time": "2025-02-09T13:50:43.329Z"
   },
   {
    "duration": 3,
    "start_time": "2025-02-09T13:50:43.415Z"
   },
   {
    "duration": 46,
    "start_time": "2025-02-09T13:50:43.419Z"
   },
   {
    "duration": 34,
    "start_time": "2025-02-09T13:50:43.466Z"
   },
   {
    "duration": 7,
    "start_time": "2025-02-09T13:50:43.503Z"
   },
   {
    "duration": 46,
    "start_time": "2025-02-09T13:50:43.511Z"
   },
   {
    "duration": 22,
    "start_time": "2025-02-09T13:50:43.559Z"
   },
   {
    "duration": 29,
    "start_time": "2025-02-09T13:50:43.583Z"
   },
   {
    "duration": 20,
    "start_time": "2025-02-09T13:50:43.614Z"
   },
   {
    "duration": 16,
    "start_time": "2025-02-09T13:50:43.636Z"
   },
   {
    "duration": 19,
    "start_time": "2025-02-09T13:50:43.653Z"
   },
   {
    "duration": 25,
    "start_time": "2025-02-09T13:50:43.673Z"
   },
   {
    "duration": 169,
    "start_time": "2025-02-09T13:50:43.700Z"
   },
   {
    "duration": 114,
    "start_time": "2025-02-09T13:50:43.871Z"
   },
   {
    "duration": 8,
    "start_time": "2025-02-09T13:50:43.987Z"
   },
   {
    "duration": 171,
    "start_time": "2025-02-09T13:50:44.002Z"
   },
   {
    "duration": 109,
    "start_time": "2025-02-09T13:50:44.174Z"
   },
   {
    "duration": 8,
    "start_time": "2025-02-09T13:50:44.284Z"
   },
   {
    "duration": 222,
    "start_time": "2025-02-09T13:50:44.302Z"
   },
   {
    "duration": 123,
    "start_time": "2025-02-09T13:50:44.527Z"
   },
   {
    "duration": 7,
    "start_time": "2025-02-09T13:50:44.652Z"
   },
   {
    "duration": 229,
    "start_time": "2025-02-09T13:50:44.661Z"
   },
   {
    "duration": 116,
    "start_time": "2025-02-09T13:50:44.892Z"
   },
   {
    "duration": 6,
    "start_time": "2025-02-09T13:50:45.010Z"
   },
   {
    "duration": 319,
    "start_time": "2025-02-09T13:50:45.018Z"
   },
   {
    "duration": 6,
    "start_time": "2025-02-09T13:50:45.339Z"
   },
   {
    "duration": 13,
    "start_time": "2025-02-09T13:50:45.346Z"
   },
   {
    "duration": 25,
    "start_time": "2025-02-09T13:50:45.361Z"
   },
   {
    "duration": 217,
    "start_time": "2025-02-09T13:50:45.388Z"
   },
   {
    "duration": 321,
    "start_time": "2025-02-09T13:50:45.607Z"
   },
   {
    "duration": 537,
    "start_time": "2025-02-09T13:50:45.930Z"
   },
   {
    "duration": 8,
    "start_time": "2025-02-09T13:50:46.469Z"
   },
   {
    "duration": 11,
    "start_time": "2025-02-09T13:50:46.478Z"
   },
   {
    "duration": 12,
    "start_time": "2025-02-09T13:50:46.490Z"
   },
   {
    "duration": 5,
    "start_time": "2025-02-09T13:50:46.504Z"
   },
   {
    "duration": 10,
    "start_time": "2025-02-09T13:50:46.510Z"
   },
   {
    "duration": 19,
    "start_time": "2025-02-09T13:50:46.521Z"
   },
   {
    "duration": 24,
    "start_time": "2025-02-09T13:50:46.542Z"
   },
   {
    "duration": 21,
    "start_time": "2025-02-09T13:50:46.568Z"
   },
   {
    "duration": 13,
    "start_time": "2025-02-09T13:50:46.591Z"
   },
   {
    "duration": 106,
    "start_time": "2025-02-09T13:50:46.605Z"
   },
   {
    "duration": 4,
    "start_time": "2025-02-09T13:50:48.870Z"
   },
   {
    "duration": 7,
    "start_time": "2025-02-09T13:50:52.198Z"
   },
   {
    "duration": 8858,
    "start_time": "2025-02-09T13:50:55.965Z"
   },
   {
    "duration": 6,
    "start_time": "2025-02-09T13:51:10.743Z"
   },
   {
    "duration": 7,
    "start_time": "2025-02-09T13:53:11.895Z"
   },
   {
    "duration": 8852,
    "start_time": "2025-02-09T13:53:16.302Z"
   },
   {
    "duration": 6,
    "start_time": "2025-02-09T13:54:16.975Z"
   },
   {
    "duration": 8663,
    "start_time": "2025-02-09T13:54:18.807Z"
   },
   {
    "duration": 7,
    "start_time": "2025-02-09T13:54:31.216Z"
   },
   {
    "duration": 287,
    "start_time": "2025-02-09T13:55:20.474Z"
   },
   {
    "duration": 3,
    "start_time": "2025-02-09T13:56:04.033Z"
   },
   {
    "duration": 5,
    "start_time": "2025-02-09T13:56:06.408Z"
   },
   {
    "duration": 4,
    "start_time": "2025-02-09T13:56:07.993Z"
   },
   {
    "duration": 3,
    "start_time": "2025-02-09T13:56:09.536Z"
   },
   {
    "duration": 11314,
    "start_time": "2025-02-09T13:56:12.752Z"
   },
   {
    "duration": 6,
    "start_time": "2025-02-09T13:56:29.352Z"
   },
   {
    "duration": 4,
    "start_time": "2025-02-09T13:59:52.433Z"
   },
   {
    "duration": 11,
    "start_time": "2025-02-09T14:00:05.155Z"
   },
   {
    "duration": 8,
    "start_time": "2025-02-09T14:00:07.897Z"
   },
   {
    "duration": 7,
    "start_time": "2025-02-09T14:02:44.291Z"
   },
   {
    "duration": 17,
    "start_time": "2025-02-09T14:02:46.618Z"
   },
   {
    "duration": 6,
    "start_time": "2025-02-09T14:03:41.659Z"
   },
   {
    "duration": 17,
    "start_time": "2025-02-09T14:03:45.419Z"
   },
   {
    "duration": 7,
    "start_time": "2025-02-09T14:05:13.675Z"
   },
   {
    "duration": 7,
    "start_time": "2025-02-09T14:05:57.875Z"
   },
   {
    "duration": 2375,
    "start_time": "2025-02-09T14:06:05.587Z"
   },
   {
    "duration": 6,
    "start_time": "2025-02-09T14:06:20.763Z"
   },
   {
    "duration": 2350,
    "start_time": "2025-02-09T14:06:22.427Z"
   },
   {
    "duration": 7,
    "start_time": "2025-02-09T14:06:33.277Z"
   },
   {
    "duration": 28756,
    "start_time": "2025-02-09T14:06:35.363Z"
   },
   {
    "duration": 9,
    "start_time": "2025-02-09T14:07:47.692Z"
   },
   {
    "duration": 12574,
    "start_time": "2025-02-09T14:08:26.629Z"
   },
   {
    "duration": 5,
    "start_time": "2025-02-09T14:08:53.556Z"
   },
   {
    "duration": 2335,
    "start_time": "2025-02-09T14:08:58.868Z"
   },
   {
    "duration": 2377,
    "start_time": "2025-02-09T14:09:46.852Z"
   },
   {
    "duration": 8,
    "start_time": "2025-02-09T14:10:00.229Z"
   },
   {
    "duration": 19,
    "start_time": "2025-02-09T14:10:01.829Z"
   },
   {
    "duration": 4,
    "start_time": "2025-02-09T14:11:05.261Z"
   },
   {
    "duration": 6,
    "start_time": "2025-02-09T14:11:30.493Z"
   },
   {
    "duration": 19,
    "start_time": "2025-02-09T14:11:38.638Z"
   },
   {
    "duration": 6741,
    "start_time": "2025-02-09T14:12:01.006Z"
   },
   {
    "duration": 10,
    "start_time": "2025-02-09T14:12:19.686Z"
   },
   {
    "duration": 22552,
    "start_time": "2025-02-09T14:12:39.797Z"
   },
   {
    "duration": 12,
    "start_time": "2025-02-09T14:13:07.398Z"
   },
   {
    "duration": 128928,
    "start_time": "2025-02-09T14:13:37.774Z"
   },
   {
    "duration": 10,
    "start_time": "2025-02-09T14:15:46.704Z"
   },
   {
    "duration": 57528,
    "start_time": "2025-02-09T14:16:22.999Z"
   },
   {
    "duration": 10,
    "start_time": "2025-02-09T14:17:26.119Z"
   },
   {
    "duration": 56576,
    "start_time": "2025-02-09T14:17:32.550Z"
   },
   {
    "duration": 63487,
    "start_time": "2025-02-09T14:18:41.520Z"
   },
   {
    "duration": 11,
    "start_time": "2025-02-09T14:19:48.680Z"
   },
   {
    "duration": 132544,
    "start_time": "2025-02-09T14:19:57.177Z"
   },
   {
    "duration": 10,
    "start_time": "2025-02-09T14:22:14.104Z"
   },
   {
    "duration": 76282,
    "start_time": "2025-02-09T14:22:32.730Z"
   },
   {
    "duration": 10,
    "start_time": "2025-02-09T14:23:51.425Z"
   },
   {
    "duration": 84001,
    "start_time": "2025-02-09T14:24:05.818Z"
   },
   {
    "duration": 10,
    "start_time": "2025-02-09T14:25:32.634Z"
   },
   {
    "duration": 63626,
    "start_time": "2025-02-09T14:25:44.385Z"
   },
   {
    "duration": 10,
    "start_time": "2025-02-09T14:26:50.564Z"
   },
   {
    "duration": 62894,
    "start_time": "2025-02-09T14:27:07.027Z"
   },
   {
    "duration": 9,
    "start_time": "2025-02-09T14:28:32.396Z"
   },
   {
    "duration": 64673,
    "start_time": "2025-02-09T14:28:45.340Z"
   },
   {
    "duration": 10,
    "start_time": "2025-02-09T14:29:56.460Z"
   },
   {
    "duration": 7826,
    "start_time": "2025-02-09T14:30:22.563Z"
   },
   {
    "duration": 10,
    "start_time": "2025-02-09T14:30:34.228Z"
   },
   {
    "duration": 7948,
    "start_time": "2025-02-09T14:30:51.669Z"
   },
   {
    "duration": 9,
    "start_time": "2025-02-09T14:31:02.587Z"
   },
   {
    "duration": 7673,
    "start_time": "2025-02-09T14:31:07.804Z"
   },
   {
    "duration": 10,
    "start_time": "2025-02-09T14:31:20.854Z"
   },
   {
    "duration": 5214,
    "start_time": "2025-02-09T14:31:27.188Z"
   },
   {
    "duration": 9,
    "start_time": "2025-02-09T14:31:35.412Z"
   },
   {
    "duration": 10811,
    "start_time": "2025-02-09T14:31:44.852Z"
   },
   {
    "duration": 10,
    "start_time": "2025-02-09T14:31:59.277Z"
   },
   {
    "duration": 15750,
    "start_time": "2025-02-09T14:32:06.677Z"
   },
   {
    "duration": 9,
    "start_time": "2025-02-09T14:32:28.221Z"
   },
   {
    "duration": 16267,
    "start_time": "2025-02-09T14:32:50.381Z"
   },
   {
    "duration": 9,
    "start_time": "2025-02-09T14:33:09.244Z"
   },
   {
    "duration": 194610,
    "start_time": "2025-02-09T14:33:20.310Z"
   },
   {
    "duration": 10,
    "start_time": "2025-02-09T14:36:41.621Z"
   },
   {
    "duration": 222787,
    "start_time": "2025-02-09T14:37:17.837Z"
   },
   {
    "duration": 7144,
    "start_time": "2025-02-09T14:41:17.175Z"
   },
   {
    "duration": 33852,
    "start_time": "2025-02-09T14:41:33.455Z"
   },
   {
    "duration": 30168,
    "start_time": "2025-02-09T14:42:23.255Z"
   },
   {
    "duration": 13023,
    "start_time": "2025-02-09T14:43:07.200Z"
   },
   {
    "duration": 25253,
    "start_time": "2025-02-09T14:43:27.967Z"
   },
   {
    "duration": 23337,
    "start_time": "2025-02-09T14:44:01.871Z"
   },
   {
    "duration": 24788,
    "start_time": "2025-02-09T14:45:05.314Z"
   },
   {
    "duration": 5643,
    "start_time": "2025-02-09T14:45:50.783Z"
   },
   {
    "duration": 14746,
    "start_time": "2025-02-09T14:46:00.975Z"
   },
   {
    "duration": 11444,
    "start_time": "2025-02-09T14:46:28.968Z"
   },
   {
    "duration": 20135,
    "start_time": "2025-02-09T14:46:48.679Z"
   },
   {
    "duration": 8,
    "start_time": "2025-02-09T14:47:15.112Z"
   },
   {
    "duration": 4031,
    "start_time": "2025-02-09T14:47:32.360Z"
   },
   {
    "duration": 3799,
    "start_time": "2025-02-09T14:47:50.584Z"
   },
   {
    "duration": 4072,
    "start_time": "2025-02-09T14:48:05.794Z"
   },
   {
    "duration": 4859,
    "start_time": "2025-02-09T14:48:19.704Z"
   },
   {
    "duration": 9,
    "start_time": "2025-02-09T14:48:28.472Z"
   },
   {
    "duration": 6461,
    "start_time": "2025-02-09T14:48:33.208Z"
   },
   {
    "duration": 9,
    "start_time": "2025-02-09T14:48:44.937Z"
   },
   {
    "duration": 7997,
    "start_time": "2025-02-09T14:48:57.386Z"
   },
   {
    "duration": 12860,
    "start_time": "2025-02-09T14:49:23.978Z"
   },
   {
    "duration": 8146,
    "start_time": "2025-02-09T14:49:58.809Z"
   },
   {
    "duration": 10,
    "start_time": "2025-02-09T14:50:08.891Z"
   },
   {
    "duration": 7766,
    "start_time": "2025-02-09T14:50:32.858Z"
   },
   {
    "duration": 11,
    "start_time": "2025-02-09T14:50:45.537Z"
   },
   {
    "duration": 13255,
    "start_time": "2025-02-09T14:51:04.193Z"
   },
   {
    "duration": 4807,
    "start_time": "2025-02-09T14:51:40.065Z"
   },
   {
    "duration": 7881,
    "start_time": "2025-02-09T14:51:56.929Z"
   },
   {
    "duration": 8324,
    "start_time": "2025-02-09T14:52:13.857Z"
   },
   {
    "duration": 7716,
    "start_time": "2025-02-09T14:52:29.386Z"
   },
   {
    "duration": 12636,
    "start_time": "2025-02-09T14:52:47.458Z"
   },
   {
    "duration": 16287,
    "start_time": "2025-02-09T14:53:28.619Z"
   },
   {
    "duration": 20312,
    "start_time": "2025-02-09T14:53:54.405Z"
   },
   {
    "duration": 19573,
    "start_time": "2025-02-09T14:54:29.739Z"
   },
   {
    "duration": 20913,
    "start_time": "2025-02-09T14:55:03.602Z"
   },
   {
    "duration": 40233,
    "start_time": "2025-02-09T14:55:33.874Z"
   },
   {
    "duration": 19848,
    "start_time": "2025-02-09T14:56:15.956Z"
   },
   {
    "duration": 10,
    "start_time": "2025-02-09T14:56:37.747Z"
   },
   {
    "duration": 6920,
    "start_time": "2025-02-09T14:56:40.467Z"
   },
   {
    "duration": 11,
    "start_time": "2025-02-09T14:56:48.979Z"
   },
   {
    "duration": 4164,
    "start_time": "2025-02-09T14:57:02.797Z"
   },
   {
    "duration": 10,
    "start_time": "2025-02-09T14:57:09.988Z"
   },
   {
    "duration": 6966,
    "start_time": "2025-02-09T14:57:20.764Z"
   },
   {
    "duration": 9,
    "start_time": "2025-02-09T14:57:31.627Z"
   },
   {
    "duration": 11580,
    "start_time": "2025-02-09T14:57:37.756Z"
   },
   {
    "duration": 7883,
    "start_time": "2025-02-09T14:58:06.207Z"
   },
   {
    "duration": 10,
    "start_time": "2025-02-09T14:58:16.974Z"
   },
   {
    "duration": 14650,
    "start_time": "2025-02-09T14:58:25.244Z"
   },
   {
    "duration": 10,
    "start_time": "2025-02-09T14:58:44.012Z"
   },
   {
    "duration": 7971,
    "start_time": "2025-02-09T14:59:14.980Z"
   },
   {
    "duration": 10,
    "start_time": "2025-02-09T14:59:26.604Z"
   },
   {
    "duration": 7987,
    "start_time": "2025-02-09T14:59:32.852Z"
   },
   {
    "duration": 9,
    "start_time": "2025-02-09T14:59:43.932Z"
   },
   {
    "duration": 9081,
    "start_time": "2025-02-09T15:00:03.996Z"
   },
   {
    "duration": 10,
    "start_time": "2025-02-09T15:00:14.909Z"
   },
   {
    "duration": 7858,
    "start_time": "2025-02-09T15:00:21.516Z"
   },
   {
    "duration": 9,
    "start_time": "2025-02-09T15:00:30.836Z"
   },
   {
    "duration": 7836,
    "start_time": "2025-02-09T15:00:38.269Z"
   },
   {
    "duration": 9,
    "start_time": "2025-02-09T15:00:48.132Z"
   },
   {
    "duration": 8208,
    "start_time": "2025-02-09T15:01:07.277Z"
   },
   {
    "duration": 9,
    "start_time": "2025-02-09T15:01:19.893Z"
   },
   {
    "duration": 7944,
    "start_time": "2025-02-09T15:01:27.317Z"
   },
   {
    "duration": 14,
    "start_time": "2025-02-09T15:02:04.413Z"
   },
   {
    "duration": 6,
    "start_time": "2025-02-09T15:02:34.246Z"
   },
   {
    "duration": 68556,
    "start_time": "2025-02-09T15:03:31.229Z"
   },
   {
    "duration": 0,
    "start_time": "2025-02-09T15:04:39.786Z"
   },
   {
    "duration": 4,
    "start_time": "2025-02-09T15:04:43.582Z"
   },
   {
    "duration": 7,
    "start_time": "2025-02-09T15:04:47.174Z"
   },
   {
    "duration": 459977,
    "start_time": "2025-02-09T15:04:50.238Z"
   },
   {
    "duration": 13,
    "start_time": "2025-02-09T15:12:35.281Z"
   },
   {
    "duration": 12,
    "start_time": "2025-02-09T15:12:58.761Z"
   },
   {
    "duration": 12,
    "start_time": "2025-02-09T15:13:06.617Z"
   },
   {
    "duration": 4,
    "start_time": "2025-02-09T15:14:57.258Z"
   },
   {
    "duration": 6,
    "start_time": "2025-02-09T15:15:01.346Z"
   },
   {
    "duration": 12,
    "start_time": "2025-02-09T15:15:03.755Z"
   },
   {
    "duration": 17,
    "start_time": "2025-02-09T15:15:47.337Z"
   },
   {
    "duration": 7,
    "start_time": "2025-02-09T15:16:07.874Z"
   },
   {
    "duration": 17,
    "start_time": "2025-02-09T15:16:09.698Z"
   },
   {
    "duration": 7,
    "start_time": "2025-02-09T15:16:37.538Z"
   },
   {
    "duration": 54465,
    "start_time": "2025-02-09T15:16:39.747Z"
   },
   {
    "duration": 10,
    "start_time": "2025-02-09T15:17:37.874Z"
   },
   {
    "duration": 3,
    "start_time": "2025-02-09T15:20:18.114Z"
   },
   {
    "duration": 3,
    "start_time": "2025-02-09T15:20:18.120Z"
   },
   {
    "duration": 12,
    "start_time": "2025-02-09T15:20:18.125Z"
   },
   {
    "duration": 11,
    "start_time": "2025-02-09T15:20:18.139Z"
   },
   {
    "duration": 71,
    "start_time": "2025-02-09T15:20:18.152Z"
   },
   {
    "duration": 2,
    "start_time": "2025-02-09T15:20:18.225Z"
   },
   {
    "duration": 29,
    "start_time": "2025-02-09T15:20:18.229Z"
   },
   {
    "duration": 6,
    "start_time": "2025-02-09T15:20:18.259Z"
   },
   {
    "duration": 7,
    "start_time": "2025-02-09T15:20:18.267Z"
   },
   {
    "duration": 5,
    "start_time": "2025-02-09T15:20:18.276Z"
   },
   {
    "duration": 20,
    "start_time": "2025-02-09T15:20:18.282Z"
   },
   {
    "duration": 14,
    "start_time": "2025-02-09T15:20:18.304Z"
   },
   {
    "duration": 3,
    "start_time": "2025-02-09T15:20:18.320Z"
   },
   {
    "duration": 4,
    "start_time": "2025-02-09T15:20:18.325Z"
   },
   {
    "duration": 4,
    "start_time": "2025-02-09T15:20:18.330Z"
   },
   {
    "duration": 20,
    "start_time": "2025-02-09T15:20:18.335Z"
   },
   {
    "duration": 198,
    "start_time": "2025-02-09T15:20:18.357Z"
   },
   {
    "duration": 238,
    "start_time": "2025-02-09T15:20:18.557Z"
   },
   {
    "duration": 14,
    "start_time": "2025-02-09T15:20:18.797Z"
   },
   {
    "duration": 184,
    "start_time": "2025-02-09T15:20:18.813Z"
   },
   {
    "duration": 107,
    "start_time": "2025-02-09T15:20:18.999Z"
   },
   {
    "duration": 8,
    "start_time": "2025-02-09T15:20:19.107Z"
   },
   {
    "duration": 190,
    "start_time": "2025-02-09T15:20:19.117Z"
   },
   {
    "duration": 116,
    "start_time": "2025-02-09T15:20:19.310Z"
   },
   {
    "duration": 9,
    "start_time": "2025-02-09T15:20:19.428Z"
   },
   {
    "duration": 164,
    "start_time": "2025-02-09T15:20:19.438Z"
   },
   {
    "duration": 110,
    "start_time": "2025-02-09T15:20:19.604Z"
   },
   {
    "duration": 6,
    "start_time": "2025-02-09T15:20:19.716Z"
   },
   {
    "duration": 144,
    "start_time": "2025-02-09T15:20:19.723Z"
   },
   {
    "duration": 7,
    "start_time": "2025-02-09T15:20:19.869Z"
   },
   {
    "duration": 8,
    "start_time": "2025-02-09T15:20:19.877Z"
   },
   {
    "duration": 5,
    "start_time": "2025-02-09T15:20:19.903Z"
   },
   {
    "duration": 150,
    "start_time": "2025-02-09T15:20:19.910Z"
   },
   {
    "duration": 445,
    "start_time": "2025-02-09T15:20:20.062Z"
   },
   {
    "duration": 559,
    "start_time": "2025-02-09T15:20:20.509Z"
   },
   {
    "duration": 7,
    "start_time": "2025-02-09T15:20:21.070Z"
   },
   {
    "duration": 8,
    "start_time": "2025-02-09T15:20:21.079Z"
   },
   {
    "duration": 13,
    "start_time": "2025-02-09T15:20:21.089Z"
   },
   {
    "duration": 6,
    "start_time": "2025-02-09T15:20:21.104Z"
   },
   {
    "duration": 17,
    "start_time": "2025-02-09T15:20:21.111Z"
   },
   {
    "duration": 34,
    "start_time": "2025-02-09T15:20:21.130Z"
   },
   {
    "duration": 18,
    "start_time": "2025-02-09T15:20:21.166Z"
   },
   {
    "duration": 31,
    "start_time": "2025-02-09T15:20:21.186Z"
   },
   {
    "duration": 22,
    "start_time": "2025-02-09T15:20:21.218Z"
   },
   {
    "duration": 4,
    "start_time": "2025-02-09T15:20:21.242Z"
   },
   {
    "duration": 11,
    "start_time": "2025-02-09T15:20:21.248Z"
   },
   {
    "duration": 4,
    "start_time": "2025-02-09T15:20:21.261Z"
   },
   {
    "duration": 5,
    "start_time": "2025-02-09T15:20:21.267Z"
   },
   {
    "duration": 42,
    "start_time": "2025-02-09T15:20:21.274Z"
   },
   {
    "duration": 1128,
    "start_time": "2025-02-09T15:20:21.318Z"
   },
   {
    "duration": 6,
    "start_time": "2025-02-09T15:20:22.447Z"
   },
   {
    "duration": 299,
    "start_time": "2025-02-09T15:20:22.454Z"
   },
   {
    "duration": 4,
    "start_time": "2025-02-09T15:20:22.754Z"
   },
   {
    "duration": 13,
    "start_time": "2025-02-09T15:20:22.760Z"
   },
   {
    "duration": 15,
    "start_time": "2025-02-09T15:20:22.775Z"
   },
   {
    "duration": 32,
    "start_time": "2025-02-09T15:20:22.792Z"
   },
   {
    "duration": 3,
    "start_time": "2025-02-09T15:21:34.691Z"
   },
   {
    "duration": 11,
    "start_time": "2025-02-09T15:21:34.696Z"
   },
   {
    "duration": 31,
    "start_time": "2025-02-09T15:21:34.709Z"
   },
   {
    "duration": 20,
    "start_time": "2025-02-09T15:21:34.743Z"
   },
   {
    "duration": 105,
    "start_time": "2025-02-09T15:21:34.765Z"
   },
   {
    "duration": 12,
    "start_time": "2025-02-09T15:21:34.872Z"
   },
   {
    "duration": 11,
    "start_time": "2025-02-09T15:21:34.885Z"
   },
   {
    "duration": 9,
    "start_time": "2025-02-09T15:21:34.898Z"
   },
   {
    "duration": 44,
    "start_time": "2025-02-09T15:21:34.910Z"
   },
   {
    "duration": 61,
    "start_time": "2025-02-09T15:21:34.956Z"
   },
   {
    "duration": 10,
    "start_time": "2025-02-09T15:21:35.018Z"
   },
   {
    "duration": 16,
    "start_time": "2025-02-09T15:21:35.030Z"
   },
   {
    "duration": 17,
    "start_time": "2025-02-09T15:21:35.047Z"
   },
   {
    "duration": 18,
    "start_time": "2025-02-09T15:21:35.066Z"
   },
   {
    "duration": 28,
    "start_time": "2025-02-09T15:21:35.086Z"
   },
   {
    "duration": 26,
    "start_time": "2025-02-09T15:21:35.116Z"
   },
   {
    "duration": 178,
    "start_time": "2025-02-09T15:21:35.143Z"
   },
   {
    "duration": 130,
    "start_time": "2025-02-09T15:21:35.322Z"
   },
   {
    "duration": 8,
    "start_time": "2025-02-09T15:21:35.454Z"
   },
   {
    "duration": 204,
    "start_time": "2025-02-09T15:21:35.464Z"
   },
   {
    "duration": 117,
    "start_time": "2025-02-09T15:21:35.670Z"
   },
   {
    "duration": 14,
    "start_time": "2025-02-09T15:21:35.789Z"
   },
   {
    "duration": 191,
    "start_time": "2025-02-09T15:21:35.804Z"
   },
   {
    "duration": 167,
    "start_time": "2025-02-09T15:21:36.003Z"
   },
   {
    "duration": 9,
    "start_time": "2025-02-09T15:21:36.172Z"
   },
   {
    "duration": 218,
    "start_time": "2025-02-09T15:21:36.182Z"
   },
   {
    "duration": 125,
    "start_time": "2025-02-09T15:21:36.401Z"
   },
   {
    "duration": 6,
    "start_time": "2025-02-09T15:21:36.528Z"
   },
   {
    "duration": 151,
    "start_time": "2025-02-09T15:21:36.536Z"
   },
   {
    "duration": 14,
    "start_time": "2025-02-09T15:21:36.689Z"
   },
   {
    "duration": 20,
    "start_time": "2025-02-09T15:21:36.704Z"
   },
   {
    "duration": 12,
    "start_time": "2025-02-09T15:21:36.726Z"
   },
   {
    "duration": 281,
    "start_time": "2025-02-09T15:21:36.739Z"
   },
   {
    "duration": 342,
    "start_time": "2025-02-09T15:21:37.022Z"
   },
   {
    "duration": 621,
    "start_time": "2025-02-09T15:21:37.366Z"
   },
   {
    "duration": 16,
    "start_time": "2025-02-09T15:21:37.988Z"
   },
   {
    "duration": 3,
    "start_time": "2025-02-09T15:21:38.006Z"
   },
   {
    "duration": 10,
    "start_time": "2025-02-09T15:21:38.010Z"
   },
   {
    "duration": 26,
    "start_time": "2025-02-09T15:21:38.022Z"
   },
   {
    "duration": 11,
    "start_time": "2025-02-09T15:21:38.050Z"
   },
   {
    "duration": 32,
    "start_time": "2025-02-09T15:21:38.063Z"
   },
   {
    "duration": 36,
    "start_time": "2025-02-09T15:21:38.096Z"
   },
   {
    "duration": 12,
    "start_time": "2025-02-09T15:21:38.134Z"
   },
   {
    "duration": 7,
    "start_time": "2025-02-09T15:21:38.148Z"
   },
   {
    "duration": 29,
    "start_time": "2025-02-09T15:21:38.157Z"
   },
   {
    "duration": 16,
    "start_time": "2025-02-09T15:21:38.188Z"
   },
   {
    "duration": 9,
    "start_time": "2025-02-09T15:21:38.206Z"
   },
   {
    "duration": 8,
    "start_time": "2025-02-09T15:21:38.217Z"
   },
   {
    "duration": 9,
    "start_time": "2025-02-09T15:21:38.227Z"
   },
   {
    "duration": 1204,
    "start_time": "2025-02-09T15:21:38.237Z"
   },
   {
    "duration": 6,
    "start_time": "2025-02-09T15:21:39.443Z"
   },
   {
    "duration": 318,
    "start_time": "2025-02-09T15:21:39.451Z"
   },
   {
    "duration": 5,
    "start_time": "2025-02-09T15:21:39.771Z"
   },
   {
    "duration": 5,
    "start_time": "2025-02-09T15:21:39.778Z"
   },
   {
    "duration": 18,
    "start_time": "2025-02-09T15:21:39.785Z"
   },
   {
    "duration": 20,
    "start_time": "2025-02-09T15:21:39.805Z"
   },
   {
    "duration": 3,
    "start_time": "2025-02-09T15:25:10.853Z"
   },
   {
    "duration": 6600,
    "start_time": "2025-02-09T15:25:14.821Z"
   },
   {
    "duration": 6,
    "start_time": "2025-02-09T15:25:32.509Z"
   },
   {
    "duration": 296,
    "start_time": "2025-02-09T15:25:36.606Z"
   },
   {
    "duration": 262309,
    "start_time": "2025-02-09T15:27:37.614Z"
   },
   {
    "duration": 12,
    "start_time": "2025-02-09T15:39:03.747Z"
   },
   {
    "duration": 11,
    "start_time": "2025-02-09T15:40:53.923Z"
   },
   {
    "duration": 11,
    "start_time": "2025-02-09T15:41:06.059Z"
   },
   {
    "duration": 34805,
    "start_time": "2025-02-09T15:49:33.799Z"
   },
   {
    "duration": 52,
    "start_time": "2025-02-09T16:44:54.106Z"
   },
   {
    "duration": 0,
    "start_time": "2025-02-09T16:44:54.160Z"
   },
   {
    "duration": 0,
    "start_time": "2025-02-09T16:44:54.161Z"
   },
   {
    "duration": 2,
    "start_time": "2025-02-09T16:45:01.610Z"
   },
   {
    "duration": 31,
    "start_time": "2025-02-09T16:45:01.614Z"
   },
   {
    "duration": 2046,
    "start_time": "2025-02-09T16:45:01.647Z"
   },
   {
    "duration": 3,
    "start_time": "2025-02-09T16:45:03.695Z"
   },
   {
    "duration": 79,
    "start_time": "2025-02-09T16:45:03.701Z"
   },
   {
    "duration": 13,
    "start_time": "2025-02-09T16:45:03.782Z"
   },
   {
    "duration": 26,
    "start_time": "2025-02-09T16:45:03.797Z"
   },
   {
    "duration": 22,
    "start_time": "2025-02-09T16:45:03.825Z"
   },
   {
    "duration": 14,
    "start_time": "2025-02-09T16:45:03.849Z"
   },
   {
    "duration": 30,
    "start_time": "2025-02-09T16:45:03.865Z"
   },
   {
    "duration": 15,
    "start_time": "2025-02-09T16:45:03.896Z"
   },
   {
    "duration": 27,
    "start_time": "2025-02-09T16:45:03.913Z"
   },
   {
    "duration": 47,
    "start_time": "2025-02-09T16:45:03.942Z"
   },
   {
    "duration": 22,
    "start_time": "2025-02-09T16:45:03.991Z"
   },
   {
    "duration": 23,
    "start_time": "2025-02-09T16:45:04.014Z"
   },
   {
    "duration": 32,
    "start_time": "2025-02-09T16:45:04.039Z"
   },
   {
    "duration": 177,
    "start_time": "2025-02-09T16:45:04.072Z"
   },
   {
    "duration": 138,
    "start_time": "2025-02-09T16:45:04.252Z"
   },
   {
    "duration": 17,
    "start_time": "2025-02-09T16:45:04.393Z"
   },
   {
    "duration": 186,
    "start_time": "2025-02-09T16:45:04.412Z"
   },
   {
    "duration": 114,
    "start_time": "2025-02-09T16:45:04.602Z"
   },
   {
    "duration": 10,
    "start_time": "2025-02-09T16:45:04.719Z"
   },
   {
    "duration": 200,
    "start_time": "2025-02-09T16:45:04.730Z"
   },
   {
    "duration": 127,
    "start_time": "2025-02-09T16:45:04.935Z"
   },
   {
    "duration": 8,
    "start_time": "2025-02-09T16:45:05.063Z"
   },
   {
    "duration": 224,
    "start_time": "2025-02-09T16:45:05.073Z"
   },
   {
    "duration": 123,
    "start_time": "2025-02-09T16:45:05.299Z"
   },
   {
    "duration": 6,
    "start_time": "2025-02-09T16:45:05.424Z"
   },
   {
    "duration": 250,
    "start_time": "2025-02-09T16:45:05.431Z"
   },
   {
    "duration": 5,
    "start_time": "2025-02-09T16:45:05.683Z"
   },
   {
    "duration": 6,
    "start_time": "2025-02-09T16:45:05.701Z"
   },
   {
    "duration": 11,
    "start_time": "2025-02-09T16:45:05.708Z"
   },
   {
    "duration": 153,
    "start_time": "2025-02-09T16:45:05.721Z"
   },
   {
    "duration": 340,
    "start_time": "2025-02-09T16:45:05.875Z"
   },
   {
    "duration": 533,
    "start_time": "2025-02-09T16:45:06.217Z"
   },
   {
    "duration": 6,
    "start_time": "2025-02-09T16:45:06.751Z"
   },
   {
    "duration": 86,
    "start_time": "2025-02-09T16:45:06.759Z"
   },
   {
    "duration": 22,
    "start_time": "2025-02-09T16:45:06.847Z"
   },
   {
    "duration": 45,
    "start_time": "2025-02-09T16:45:06.870Z"
   },
   {
    "duration": 43,
    "start_time": "2025-02-09T16:45:06.917Z"
   },
   {
    "duration": 32,
    "start_time": "2025-02-09T16:45:06.962Z"
   },
   {
    "duration": 121,
    "start_time": "2025-02-09T16:45:06.996Z"
   },
   {
    "duration": 25,
    "start_time": "2025-02-09T16:45:07.119Z"
   },
   {
    "duration": 7,
    "start_time": "2025-02-09T16:45:07.146Z"
   },
   {
    "duration": 32,
    "start_time": "2025-02-09T16:45:07.154Z"
   },
   {
    "duration": 15,
    "start_time": "2025-02-09T16:45:07.188Z"
   },
   {
    "duration": 6814,
    "start_time": "2025-02-09T16:45:07.205Z"
   },
   {
    "duration": 82,
    "start_time": "2025-02-09T16:45:14.021Z"
   },
   {
    "duration": 341,
    "start_time": "2025-02-09T16:45:14.105Z"
   },
   {
    "duration": 6,
    "start_time": "2025-02-09T16:45:14.449Z"
   },
   {
    "duration": 30,
    "start_time": "2025-02-09T16:45:14.458Z"
   },
   {
    "duration": 223384,
    "start_time": "2025-02-09T16:45:19.337Z"
   },
   {
    "duration": 19,
    "start_time": "2025-02-09T16:49:52.586Z"
   },
   {
    "duration": 565,
    "start_time": "2025-02-09T17:23:47.571Z"
   },
   {
    "duration": 267,
    "start_time": "2025-02-09T17:24:57.739Z"
   },
   {
    "duration": 422,
    "start_time": "2025-02-09T17:25:06.899Z"
   },
   {
    "duration": 421,
    "start_time": "2025-02-09T17:26:47.516Z"
   },
   {
    "duration": 418,
    "start_time": "2025-02-09T17:27:05.942Z"
   },
   {
    "duration": 385,
    "start_time": "2025-02-09T17:28:34.189Z"
   },
   {
    "duration": 402,
    "start_time": "2025-02-09T17:28:46.125Z"
   },
   {
    "duration": 4,
    "start_time": "2025-02-09T17:30:10.430Z"
   },
   {
    "duration": 9,
    "start_time": "2025-02-09T17:30:29.006Z"
   },
   {
    "duration": 4,
    "start_time": "2025-02-09T17:30:50.207Z"
   },
   {
    "duration": 396,
    "start_time": "2025-02-09T17:30:52.325Z"
   },
   {
    "duration": 383,
    "start_time": "2025-02-09T17:31:04.854Z"
   },
   {
    "duration": 508,
    "start_time": "2025-02-09T17:31:34.896Z"
   },
   {
    "duration": 528,
    "start_time": "2025-02-09T17:31:57.407Z"
   },
   {
    "duration": 370,
    "start_time": "2025-02-09T17:32:18.551Z"
   },
   {
    "duration": 3,
    "start_time": "2025-02-10T05:47:12.039Z"
   },
   {
    "duration": 3,
    "start_time": "2025-02-10T05:47:12.044Z"
   },
   {
    "duration": 1640,
    "start_time": "2025-02-10T05:47:12.049Z"
   },
   {
    "duration": 0,
    "start_time": "2025-02-10T05:47:13.691Z"
   },
   {
    "duration": 0,
    "start_time": "2025-02-10T05:47:13.692Z"
   },
   {
    "duration": 0,
    "start_time": "2025-02-10T05:47:13.694Z"
   },
   {
    "duration": 0,
    "start_time": "2025-02-10T05:47:13.695Z"
   },
   {
    "duration": 0,
    "start_time": "2025-02-10T05:47:13.696Z"
   },
   {
    "duration": 0,
    "start_time": "2025-02-10T05:47:13.698Z"
   },
   {
    "duration": 0,
    "start_time": "2025-02-10T05:47:13.699Z"
   },
   {
    "duration": 0,
    "start_time": "2025-02-10T05:47:13.700Z"
   },
   {
    "duration": 0,
    "start_time": "2025-02-10T05:47:13.701Z"
   },
   {
    "duration": 0,
    "start_time": "2025-02-10T05:47:13.702Z"
   },
   {
    "duration": 0,
    "start_time": "2025-02-10T05:47:13.703Z"
   },
   {
    "duration": 0,
    "start_time": "2025-02-10T05:47:13.704Z"
   },
   {
    "duration": 0,
    "start_time": "2025-02-10T05:47:13.705Z"
   },
   {
    "duration": 0,
    "start_time": "2025-02-10T05:47:13.706Z"
   },
   {
    "duration": 0,
    "start_time": "2025-02-10T05:47:13.707Z"
   },
   {
    "duration": 0,
    "start_time": "2025-02-10T05:47:13.708Z"
   },
   {
    "duration": 0,
    "start_time": "2025-02-10T05:47:13.708Z"
   },
   {
    "duration": 0,
    "start_time": "2025-02-10T05:47:13.709Z"
   },
   {
    "duration": 0,
    "start_time": "2025-02-10T05:47:13.710Z"
   },
   {
    "duration": 0,
    "start_time": "2025-02-10T05:47:13.711Z"
   },
   {
    "duration": 0,
    "start_time": "2025-02-10T05:47:13.713Z"
   },
   {
    "duration": 0,
    "start_time": "2025-02-10T05:47:13.714Z"
   },
   {
    "duration": 0,
    "start_time": "2025-02-10T05:47:13.715Z"
   },
   {
    "duration": 0,
    "start_time": "2025-02-10T05:47:13.716Z"
   },
   {
    "duration": 0,
    "start_time": "2025-02-10T05:47:13.717Z"
   },
   {
    "duration": 0,
    "start_time": "2025-02-10T05:47:13.758Z"
   },
   {
    "duration": 1,
    "start_time": "2025-02-10T05:47:13.759Z"
   },
   {
    "duration": 9426,
    "start_time": "2025-02-10T05:47:44.307Z"
   },
   {
    "duration": 3,
    "start_time": "2025-02-10T05:49:39.637Z"
   },
   {
    "duration": 2,
    "start_time": "2025-02-10T05:50:08.385Z"
   },
   {
    "duration": 3,
    "start_time": "2025-02-10T05:50:08.389Z"
   },
   {
    "duration": 1970,
    "start_time": "2025-02-10T05:50:08.394Z"
   },
   {
    "duration": 2,
    "start_time": "2025-02-10T05:50:10.366Z"
   },
   {
    "duration": 54,
    "start_time": "2025-02-10T05:50:10.370Z"
   },
   {
    "duration": 13,
    "start_time": "2025-02-10T05:50:10.425Z"
   },
   {
    "duration": 14,
    "start_time": "2025-02-10T05:50:10.439Z"
   },
   {
    "duration": 6,
    "start_time": "2025-02-10T05:50:10.454Z"
   },
   {
    "duration": 3,
    "start_time": "2025-02-10T05:50:10.461Z"
   },
   {
    "duration": 7,
    "start_time": "2025-02-10T05:50:10.466Z"
   },
   {
    "duration": 3,
    "start_time": "2025-02-10T05:50:10.475Z"
   },
   {
    "duration": 21,
    "start_time": "2025-02-10T05:50:10.479Z"
   },
   {
    "duration": 13,
    "start_time": "2025-02-10T05:50:10.502Z"
   },
   {
    "duration": 25,
    "start_time": "2025-02-10T05:50:10.519Z"
   },
   {
    "duration": 12,
    "start_time": "2025-02-10T05:50:10.545Z"
   },
   {
    "duration": 412,
    "start_time": "2025-02-10T05:50:10.559Z"
   },
   {
    "duration": 7,
    "start_time": "2025-02-10T05:50:10.973Z"
   },
   {
    "duration": 394,
    "start_time": "2025-02-10T05:50:10.982Z"
   },
   {
    "duration": 7,
    "start_time": "2025-02-10T05:50:11.378Z"
   },
   {
    "duration": 595,
    "start_time": "2025-02-10T05:50:11.387Z"
   },
   {
    "duration": 9,
    "start_time": "2025-02-10T05:50:11.983Z"
   },
   {
    "duration": 383,
    "start_time": "2025-02-10T05:50:11.994Z"
   },
   {
    "duration": 6,
    "start_time": "2025-02-10T05:50:12.378Z"
   },
   {
    "duration": 137,
    "start_time": "2025-02-10T05:50:12.385Z"
   },
   {
    "duration": 6,
    "start_time": "2025-02-10T05:50:12.523Z"
   },
   {
    "duration": 5,
    "start_time": "2025-02-10T05:50:12.530Z"
   },
   {
    "duration": 23,
    "start_time": "2025-02-10T05:50:12.536Z"
   },
   {
    "duration": 234,
    "start_time": "2025-02-10T05:50:12.560Z"
   },
   {
    "duration": 318,
    "start_time": "2025-02-10T05:50:12.796Z"
   },
   {
    "duration": 559,
    "start_time": "2025-02-10T05:50:13.116Z"
   },
   {
    "duration": 6,
    "start_time": "2025-02-10T05:50:13.676Z"
   },
   {
    "duration": 4,
    "start_time": "2025-02-10T05:50:13.684Z"
   },
   {
    "duration": 4,
    "start_time": "2025-02-10T05:50:13.689Z"
   },
   {
    "duration": 3,
    "start_time": "2025-02-10T05:50:13.694Z"
   },
   {
    "duration": 17,
    "start_time": "2025-02-10T05:50:13.698Z"
   },
   {
    "duration": 46,
    "start_time": "2025-02-10T05:50:13.717Z"
   },
   {
    "duration": 3,
    "start_time": "2025-02-10T05:50:13.764Z"
   },
   {
    "duration": 5,
    "start_time": "2025-02-10T05:50:13.769Z"
   },
   {
    "duration": 5,
    "start_time": "2025-02-10T05:50:13.775Z"
   },
   {
    "duration": 7,
    "start_time": "2025-02-10T05:50:13.781Z"
   },
   {
    "duration": 6,
    "start_time": "2025-02-10T05:50:13.792Z"
   },
   {
    "duration": 6094,
    "start_time": "2025-02-10T05:50:44.177Z"
   },
   {
    "duration": 7,
    "start_time": "2025-02-10T05:51:03.407Z"
   },
   {
    "duration": 204,
    "start_time": "2025-02-10T05:51:08.447Z"
   },
   {
    "duration": 4,
    "start_time": "2025-02-10T05:51:16.663Z"
   },
   {
    "duration": 6,
    "start_time": "2025-02-10T05:51:18.888Z"
   },
   {
    "duration": 233045,
    "start_time": "2025-02-10T05:51:23.624Z"
   },
   {
    "duration": 17,
    "start_time": "2025-02-10T05:55:16.671Z"
   },
   {
    "duration": 71561,
    "start_time": "2025-02-10T05:59:45.818Z"
   },
   {
    "duration": 12,
    "start_time": "2025-02-10T06:02:00.928Z"
   },
   {
    "duration": 69599,
    "start_time": "2025-02-10T06:03:22.968Z"
   },
   {
    "duration": 12,
    "start_time": "2025-02-10T06:04:50.612Z"
   },
   {
    "duration": 55134,
    "start_time": "2025-02-10T06:05:27.228Z"
   },
   {
    "duration": 11,
    "start_time": "2025-02-10T06:06:27.923Z"
   },
   {
    "duration": 70262,
    "start_time": "2025-02-10T06:07:38.398Z"
   },
   {
    "duration": 11,
    "start_time": "2025-02-10T06:08:53.041Z"
   },
   {
    "duration": 59281,
    "start_time": "2025-02-10T06:09:20.979Z"
   },
   {
    "duration": 11,
    "start_time": "2025-02-10T06:10:20.262Z"
   },
   {
    "duration": 41336,
    "start_time": "2025-02-10T06:10:53.129Z"
   },
   {
    "duration": 10,
    "start_time": "2025-02-10T06:11:34.467Z"
   },
   {
    "duration": 50990,
    "start_time": "2025-02-10T06:11:56.569Z"
   },
   {
    "duration": 12,
    "start_time": "2025-02-10T06:12:47.560Z"
   },
   {
    "duration": 46562,
    "start_time": "2025-02-10T06:17:26.516Z"
   },
   {
    "duration": 87,
    "start_time": "2025-02-10T06:18:13.080Z"
   },
   {
    "duration": 47520,
    "start_time": "2025-02-10T06:18:58.344Z"
   },
   {
    "duration": 10,
    "start_time": "2025-02-10T06:19:45.867Z"
   },
   {
    "duration": 47875,
    "start_time": "2025-02-10T06:20:25.988Z"
   },
   {
    "duration": 12,
    "start_time": "2025-02-10T06:21:13.865Z"
   },
   {
    "duration": 47782,
    "start_time": "2025-02-10T06:21:45.692Z"
   },
   {
    "duration": 11,
    "start_time": "2025-02-10T06:22:33.476Z"
   },
   {
    "duration": 47542,
    "start_time": "2025-02-10T06:22:54.121Z"
   },
   {
    "duration": 11,
    "start_time": "2025-02-10T06:23:41.664Z"
   },
   {
    "duration": 47946,
    "start_time": "2025-02-10T06:24:16.020Z"
   },
   {
    "duration": 11,
    "start_time": "2025-02-10T06:25:03.968Z"
   },
   {
    "duration": 47382,
    "start_time": "2025-02-10T06:25:36.899Z"
   },
   {
    "duration": 11,
    "start_time": "2025-02-10T06:26:40.473Z"
   },
   {
    "duration": 48165,
    "start_time": "2025-02-10T06:26:53.611Z"
   },
   {
    "duration": 11,
    "start_time": "2025-02-10T06:27:47.762Z"
   },
   {
    "duration": 48064,
    "start_time": "2025-02-10T06:29:36.608Z"
   },
   {
    "duration": 12,
    "start_time": "2025-02-10T06:30:26.843Z"
   },
   {
    "duration": 48075,
    "start_time": "2025-02-10T06:30:43.402Z"
   },
   {
    "duration": 12,
    "start_time": "2025-02-10T06:31:31.478Z"
   },
   {
    "duration": 50852,
    "start_time": "2025-02-10T06:32:09.322Z"
   },
   {
    "duration": 12,
    "start_time": "2025-02-10T06:33:00.175Z"
   },
   {
    "duration": 59113,
    "start_time": "2025-02-10T06:33:21.650Z"
   },
   {
    "duration": 11,
    "start_time": "2025-02-10T06:34:20.765Z"
   },
   {
    "duration": 54143,
    "start_time": "2025-02-10T06:34:49.136Z"
   },
   {
    "duration": 12,
    "start_time": "2025-02-10T06:38:00.332Z"
   },
   {
    "duration": 141,
    "start_time": "2025-02-10T06:43:46.877Z"
   },
   {
    "duration": 7,
    "start_time": "2025-02-10T06:44:12.100Z"
   },
   {
    "duration": 16,
    "start_time": "2025-02-10T06:49:28.730Z"
   },
   {
    "duration": 8,
    "start_time": "2025-02-10T06:50:38.531Z"
   },
   {
    "duration": 9,
    "start_time": "2025-02-10T06:50:55.913Z"
   },
   {
    "duration": 5,
    "start_time": "2025-02-10T06:51:22.355Z"
   },
   {
    "duration": 8,
    "start_time": "2025-02-10T07:00:23.142Z"
   },
   {
    "duration": 9,
    "start_time": "2025-02-10T07:00:26.085Z"
   },
   {
    "duration": 5,
    "start_time": "2025-02-10T07:01:39.385Z"
   },
   {
    "duration": 5,
    "start_time": "2025-02-10T07:01:44.795Z"
   },
   {
    "duration": 4,
    "start_time": "2025-02-10T07:01:52.229Z"
   },
   {
    "duration": 5,
    "start_time": "2025-02-10T07:01:54.353Z"
   },
   {
    "duration": 7,
    "start_time": "2025-02-10T07:02:06.118Z"
   },
   {
    "duration": 5,
    "start_time": "2025-02-10T07:02:12.556Z"
   },
   {
    "duration": 4,
    "start_time": "2025-02-10T07:02:14.814Z"
   },
   {
    "duration": 4,
    "start_time": "2025-02-10T07:07:02.347Z"
   },
   {
    "duration": 9,
    "start_time": "2025-02-10T07:07:04.393Z"
   },
   {
    "duration": 5,
    "start_time": "2025-02-10T07:07:39.179Z"
   },
   {
    "duration": 8,
    "start_time": "2025-02-10T07:07:50.767Z"
   },
   {
    "duration": 4,
    "start_time": "2025-02-10T07:07:53.001Z"
   },
   {
    "duration": 10,
    "start_time": "2025-02-10T07:09:41.671Z"
   },
   {
    "duration": 4,
    "start_time": "2025-02-10T07:10:02.696Z"
   },
   {
    "duration": 9,
    "start_time": "2025-02-10T07:10:14.631Z"
   },
   {
    "duration": 4,
    "start_time": "2025-02-10T07:10:27.092Z"
   },
   {
    "duration": 2,
    "start_time": "2025-02-10T07:11:11.036Z"
   },
   {
    "duration": 6,
    "start_time": "2025-02-10T07:11:11.041Z"
   },
   {
    "duration": 6,
    "start_time": "2025-02-10T07:11:11.049Z"
   },
   {
    "duration": 14,
    "start_time": "2025-02-10T07:11:11.057Z"
   },
   {
    "duration": 52,
    "start_time": "2025-02-10T07:11:11.072Z"
   },
   {
    "duration": 11,
    "start_time": "2025-02-10T07:11:11.126Z"
   },
   {
    "duration": 12,
    "start_time": "2025-02-10T07:11:11.138Z"
   },
   {
    "duration": 9,
    "start_time": "2025-02-10T07:11:11.152Z"
   },
   {
    "duration": 3,
    "start_time": "2025-02-10T07:11:11.162Z"
   },
   {
    "duration": 4,
    "start_time": "2025-02-10T07:11:11.167Z"
   },
   {
    "duration": 3,
    "start_time": "2025-02-10T07:11:11.173Z"
   },
   {
    "duration": 14,
    "start_time": "2025-02-10T07:11:11.177Z"
   },
   {
    "duration": 3,
    "start_time": "2025-02-10T07:11:11.192Z"
   },
   {
    "duration": 3,
    "start_time": "2025-02-10T07:11:11.197Z"
   },
   {
    "duration": 11,
    "start_time": "2025-02-10T07:11:11.202Z"
   },
   {
    "duration": 406,
    "start_time": "2025-02-10T07:11:11.215Z"
   },
   {
    "duration": 8,
    "start_time": "2025-02-10T07:11:11.622Z"
   },
   {
    "duration": 355,
    "start_time": "2025-02-10T07:11:11.631Z"
   },
   {
    "duration": 7,
    "start_time": "2025-02-10T07:11:11.990Z"
   },
   {
    "duration": 692,
    "start_time": "2025-02-10T07:11:11.999Z"
   },
   {
    "duration": 8,
    "start_time": "2025-02-10T07:11:12.694Z"
   },
   {
    "duration": 380,
    "start_time": "2025-02-10T07:11:12.704Z"
   },
   {
    "duration": 6,
    "start_time": "2025-02-10T07:11:13.086Z"
   },
   {
    "duration": 137,
    "start_time": "2025-02-10T07:11:13.094Z"
   },
   {
    "duration": 5,
    "start_time": "2025-02-10T07:11:13.233Z"
   },
   {
    "duration": 18,
    "start_time": "2025-02-10T07:11:13.240Z"
   },
   {
    "duration": 8,
    "start_time": "2025-02-10T07:11:13.260Z"
   },
   {
    "duration": 136,
    "start_time": "2025-02-10T07:11:13.269Z"
   },
   {
    "duration": 418,
    "start_time": "2025-02-10T07:11:13.406Z"
   },
   {
    "duration": 587,
    "start_time": "2025-02-10T07:11:13.825Z"
   },
   {
    "duration": 7,
    "start_time": "2025-02-10T07:11:14.413Z"
   },
   {
    "duration": 4,
    "start_time": "2025-02-10T07:11:14.422Z"
   },
   {
    "duration": 9,
    "start_time": "2025-02-10T07:11:14.427Z"
   },
   {
    "duration": 3,
    "start_time": "2025-02-10T07:11:14.437Z"
   },
   {
    "duration": 3,
    "start_time": "2025-02-10T07:11:14.457Z"
   },
   {
    "duration": 4,
    "start_time": "2025-02-10T07:11:14.461Z"
   },
   {
    "duration": 16,
    "start_time": "2025-02-10T07:11:14.466Z"
   },
   {
    "duration": 19,
    "start_time": "2025-02-10T07:11:15.979Z"
   },
   {
    "duration": 3,
    "start_time": "2025-02-10T07:11:32.199Z"
   },
   {
    "duration": 6,
    "start_time": "2025-02-10T07:11:33.968Z"
   },
   {
    "duration": 4,
    "start_time": "2025-02-10T07:11:38.800Z"
   },
   {
    "duration": 4,
    "start_time": "2025-02-10T07:11:43.571Z"
   },
   {
    "duration": 6,
    "start_time": "2025-02-10T07:11:50.259Z"
   },
   {
    "duration": 6,
    "start_time": "2025-02-10T07:11:57.857Z"
   },
   {
    "duration": 6860,
    "start_time": "2025-02-10T07:12:04.502Z"
   },
   {
    "duration": 5,
    "start_time": "2025-02-10T07:12:30.372Z"
   },
   {
    "duration": 204,
    "start_time": "2025-02-10T07:12:37.060Z"
   },
   {
    "duration": 4,
    "start_time": "2025-02-10T07:12:43.084Z"
   },
   {
    "duration": 6,
    "start_time": "2025-02-10T07:12:48.340Z"
   },
   {
    "duration": 54537,
    "start_time": "2025-02-10T07:12:54.443Z"
   },
   {
    "duration": 84,
    "start_time": "2025-02-10T07:13:48.982Z"
   },
   {
    "duration": 488738,
    "start_time": "2025-02-10T07:14:51.420Z"
   },
   {
    "duration": 19,
    "start_time": "2025-02-10T07:23:00.160Z"
   },
   {
    "duration": 18,
    "start_time": "2025-02-10T07:25:37.207Z"
   }
  ],
  "kernelspec": {
   "display_name": "Python 3 (ipykernel)",
   "language": "python",
   "name": "python3"
  },
  "language_info": {
   "codemirror_mode": {
    "name": "ipython",
    "version": 3
   },
   "file_extension": ".py",
   "mimetype": "text/x-python",
   "name": "python",
   "nbconvert_exporter": "python",
   "pygments_lexer": "ipython3",
   "version": "3.9.5"
  },
  "toc": {
   "base_numbering": 1,
   "nav_menu": {},
   "number_sections": false,
   "sideBar": true,
   "skip_h1_title": false,
   "title_cell": "Table of Contents",
   "title_sidebar": "Contents",
   "toc_cell": false,
   "toc_position": {},
   "toc_section_display": true,
   "toc_window_display": false
  },
  "varInspector": {
   "cols": {
    "lenName": 16,
    "lenType": 16,
    "lenVar": 40
   },
   "kernels_config": {
    "python": {
     "delete_cmd_postfix": "",
     "delete_cmd_prefix": "del ",
     "library": "var_list.py",
     "varRefreshCmd": "print(var_dic_list())"
    },
    "r": {
     "delete_cmd_postfix": ") ",
     "delete_cmd_prefix": "rm(",
     "library": "var_list.r",
     "varRefreshCmd": "cat(var_dic_list()) "
    }
   },
   "types_to_exclude": [
    "module",
    "function",
    "builtin_function_or_method",
    "instance",
    "_Feature"
   ],
   "window_display": false
  }
 },
 "nbformat": 4,
 "nbformat_minor": 5
}
